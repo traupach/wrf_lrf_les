{
 "cells": [
  {
   "cell_type": "markdown",
   "metadata": {},
   "source": [
    "# WRF perturbations\n",
    "\n",
    "This report shows comparisons between WRF output in non-perturbed control run with output in which the temperature or moisture have been perturbed around a given vertical level. The aim is to explore linear response functions as described in Kuang et al 2010."
   ]
  },
  {
   "cell_type": "code",
   "execution_count": null,
   "metadata": {},
   "outputs": [],
   "source": [
    "import modules.wrf_perturbation as wp\n",
    "import matplotlib.pyplot as plt\n",
    "import numpy as np\n",
    "import datetime\n",
    "\n",
    "print(\"Report last updated at \" + str(datetime.datetime.utcnow()) + ' UTC.')"
   ]
  },
  {
   "cell_type": "markdown",
   "metadata": {
    "toc": true
   },
   "source": [
    "<h1>Table of Contents<span class=\"tocSkip\"></span></h1>\n",
    "<div class=\"toc\"><ul class=\"toc-item\"><li><span><a href=\"#Settings\" data-toc-modified-id=\"Settings-1\"><span class=\"toc-item-num\">1&nbsp;&nbsp;</span>Settings</a></span></li><li><span><a href=\"#Data-preparation\" data-toc-modified-id=\"Data-preparation-2\"><span class=\"toc-item-num\">2&nbsp;&nbsp;</span>Data preparation</a></span></li><li><span><a href=\"#Model-setup\" data-toc-modified-id=\"Model-setup-3\"><span class=\"toc-item-num\">3&nbsp;&nbsp;</span>Model setup</a></span><ul class=\"toc-item\"><li><span><a href=\"#Description\" data-toc-modified-id=\"Description-3.1\"><span class=\"toc-item-num\">3.1&nbsp;&nbsp;</span>Description</a></span></li><li><span><a href=\"#Initial-state-and-model-settings\" data-toc-modified-id=\"Initial-state-and-model-settings-3.2\"><span class=\"toc-item-num\">3.2&nbsp;&nbsp;</span>Initial state and model settings</a></span></li><li><span><a href=\"#Fixed-radiative-cooling-profile\" data-toc-modified-id=\"Fixed-radiative-cooling-profile-3.3\"><span class=\"toc-item-num\">3.3&nbsp;&nbsp;</span>Fixed radiative cooling profile</a></span></li><li><span><a href=\"#Surface-flux-constraints\" data-toc-modified-id=\"Surface-flux-constraints-3.4\"><span class=\"toc-item-num\">3.4&nbsp;&nbsp;</span>Surface flux constraints</a></span></li><li><span><a href=\"#Model-heights\" data-toc-modified-id=\"Model-heights-3.5\"><span class=\"toc-item-num\">3.5&nbsp;&nbsp;</span>Model heights</a></span></li></ul></li><li><span><a href=\"#Perturbation-settings\" data-toc-modified-id=\"Perturbation-settings-4\"><span class=\"toc-item-num\">4&nbsp;&nbsp;</span>Perturbation settings</a></span><ul class=\"toc-item\"><li><span><a href=\"#Perturbed-model-level\" data-toc-modified-id=\"Perturbed-model-level-4.1\"><span class=\"toc-item-num\">4.1&nbsp;&nbsp;</span>Perturbed model level</a></span></li></ul></li><li><span><a href=\"#Radiative-convective-equilibrium-(RCE)\" data-toc-modified-id=\"Radiative-convective-equilibrium-(RCE)-5\"><span class=\"toc-item-num\">5&nbsp;&nbsp;</span>Radiative-convective equilibrium (RCE)</a></span><ul class=\"toc-item\"><li><span><a href=\"#Time-series-of-precipitable-water\" data-toc-modified-id=\"Time-series-of-precipitable-water-5.1\"><span class=\"toc-item-num\">5.1&nbsp;&nbsp;</span>Time series of precipitable water</a></span></li><li><span><a href=\"#Outgoing-longwave-radiation-fields\" data-toc-modified-id=\"Outgoing-longwave-radiation-fields-5.2\"><span class=\"toc-item-num\">5.2&nbsp;&nbsp;</span>Outgoing longwave radiation fields</a></span></li></ul></li><li><span><a href=\"#Profiles-by-time\" data-toc-modified-id=\"Profiles-by-time-6\"><span class=\"toc-item-num\">6&nbsp;&nbsp;</span>Profiles by time</a></span><ul class=\"toc-item\"><li><span><a href=\"#Horizontal-wind\" data-toc-modified-id=\"Horizontal-wind-6.1\"><span class=\"toc-item-num\">6.1&nbsp;&nbsp;</span>Horizontal wind</a></span></li><li><span><a href=\"#Temperature\" data-toc-modified-id=\"Temperature-6.2\"><span class=\"toc-item-num\">6.2&nbsp;&nbsp;</span>Temperature</a></span></li><li><span><a href=\"#Water-vapour-mixing-ratio\" data-toc-modified-id=\"Water-vapour-mixing-ratio-6.3\"><span class=\"toc-item-num\">6.3&nbsp;&nbsp;</span>Water vapour mixing ratio</a></span></li><li><span><a href=\"#Relative-humidity\" data-toc-modified-id=\"Relative-humidity-6.4\"><span class=\"toc-item-num\">6.4&nbsp;&nbsp;</span>Relative humidity</a></span></li></ul></li><li><span><a href=\"#Mean-temperature-and-humidity-profiles-over-RCE-periods\" data-toc-modified-id=\"Mean-temperature-and-humidity-profiles-over-RCE-periods-7\"><span class=\"toc-item-num\">7&nbsp;&nbsp;</span>Mean temperature and humidity profiles over RCE periods</a></span></li><li><span><a href=\"#Perturbation-differences-in-averaged-RCE-profiles\" data-toc-modified-id=\"Perturbation-differences-in-averaged-RCE-profiles-8\"><span class=\"toc-item-num\">8&nbsp;&nbsp;</span>Perturbation differences in averaged RCE profiles</a></span></li></ul></div>"
   ]
  },
  {
   "cell_type": "markdown",
   "metadata": {},
   "source": [
    "## Settings"
   ]
  },
  {
   "cell_type": "code",
   "execution_count": null,
   "metadata": {},
   "outputs": [],
   "source": [
    "# Input directories with keys as dataset names.\n",
    "basedir = '/g/data/up6/tr2908/em_quarter_ss/v4.1.4/original_1km/output/'\n",
    "inputs = {'Control':     basedir+'control/',        # Control run.\n",
    "          'Control 2': basedir+'control/'} # Previous control w/ no nudging.\n",
    "          #'Perturbed T': basedir+'perturb_T_850/'}  # Perturbed temperature @ 850 hPa.\n",
    "\n",
    "# Figure settings.\n",
    "plt.rcParams['figure.figsize'] = wp.FIGURE_SIZE  # Figure size for non-facetted plots.\n",
    "plt.rcParams['font.size'] = 14                   # Font size for plots.\n",
    "\n",
    "# Analysis settings. \n",
    "#control_start = '2000-05-24'        # Start date for control run averaging (inclusive).\n",
    "#control_end   = '2000-05-31'        # End date for control run averaging (exclusive).\n",
    "#perturb_start = '2000-08-01'        # Start date for perturbed run averaging (inclusive). \n",
    "#perturb_end   = '2000-08-08'        # End date for perturbed run averaging (exclusive).\n",
    "\n",
    "control_start = '2000-03-10'\n",
    "control_end = '2000-03-17'\n",
    "perturb_start = '2000-03-10'\n",
    "perturb_end = '2000-03-17'\n",
    "\n",
    "plot_levels = [850, 500, 350, 200]  # Pressure levels to plot individually [hPa]."
   ]
  },
  {
   "cell_type": "markdown",
   "metadata": {},
   "source": [
    "## Data preparation\n",
    "\n",
    "The script `~/code/sh/extract_WRF_variables_parallel.sh` runs, in parallel, a python script that extracts variables of interest from `wrfout` files, optionally interpolates the 3D variables to vertical pressure levels, and takes spatial means across horizontal dimensions. The pressure levels to which the interpolation is done are from 1000 to 100 hPa in 10 hPa increments. These profiles of mean values per time are written to `wrfvar` files, which are then opened here."
   ]
  },
  {
   "cell_type": "code",
   "execution_count": null,
   "metadata": {},
   "outputs": [],
   "source": [
    "wrfvars = wp.read_wrfvars(inputs=inputs)"
   ]
  },
  {
   "cell_type": "markdown",
   "metadata": {},
   "source": [
    "## Model setup\n",
    "\n",
    "### Description\n",
    "\n",
    "The model is set to run using:\n",
    "\n",
    "* a flat sea surface domain\n",
    "* constant initial sea surface temperature (SST)\n",
    "* zero coriolis effect\n",
    "* a prescribed initial sounding/profile (see below)\n",
    "* a fixed radiative cooling profile (see below)\n",
    "* ideal evaporation as per Chua et al. (2019) (see below)\n",
    "* no light nudging on U and V winds\n",
    "\n",
    "### Initial state and model settings\n",
    "\n",
    "The following function does some sanity checks on the `wrfinput` file that stores the initial model state. It shows basic settings and plots the initial profiles against the input sounding. The initial profiles are interpolated vertically in the `wrfinput` file using the initial sounding, and therefore should be almost identical to the sounding values by height."
   ]
  },
  {
   "cell_type": "code",
   "execution_count": null,
   "metadata": {},
   "outputs": [],
   "source": [
    "wp.analyse_wrfinput(wrfinput_file=inputs['Control']+'wrfinput_d01',\n",
    "                    sounding_file=inputs['Control']+'input_sounding')"
   ]
  },
  {
   "cell_type": "markdown",
   "metadata": {},
   "source": [
    "### Fixed radiative cooling profile\n",
    "\n",
    "The radiative cooling profile is kept fixed in all runs following Herman and Kuang (2013). Between calls to the radiation driver and the surface driver, the value of the potential temperature tendancy due to the radiation scheme ($\\theta_{\\textrm{tend, rad}}$ in K s$^{-1}$) is set based on the pressure $p$ at each mass point. The value is $\\theta_{tend,rad} = t/\\Pi$, where $\\Pi$ is the Exner function that converts temperature to potential temperature, and $t$ is a temperature tendency in K day$^{-1}$ set as follows:\n",
    "\n",
    " * $t = -1.5$ K day$^{-1}$ if $p \\geq 200$ hPa.\n",
    " * $t = 0$ K day$^{-1}$ if $p \\leq 100$ hPa.\n",
    " * $t$'s value varies linearly between -1.5 and 0 K day$^{-1}$ from 100 to 200 hPa.\n",
    " \n",
    "Because $\\Pi$ is not constant the values of potential temperature tendency vary slightly in time and space even though the cooling is constant, and the profiles of mean $\\theta_{\\textrm{tend,rad}}$ are curved. Here I plot $\\theta_{\\textrm{tend,rad}}$ which is called `RTHRATEN` in the WRF model. \n",
    "\n",
    "The point at which the tendency is a minimum is at 200 hPa in the raw files, but in the output interpolated to vertical levels it is at 210 hPa and the value for 200 hPa captures some of the larger values for $\\geq$ 200 hPa. "
   ]
  },
  {
   "cell_type": "code",
   "execution_count": null,
   "metadata": {},
   "outputs": [],
   "source": [
    "wp.plot_radiative_cooling_profiles(dat=wrfvars)"
   ]
  },
  {
   "cell_type": "markdown",
   "metadata": {},
   "source": [
    "The value of `RTHRATEN` is zero everywhere in the first model timestep since no tendency has been provided yet by the model. This first time step is excluded from the following plot which shows the tendancy due to the radiation scheme at various levels by time."
   ]
  },
  {
   "cell_type": "code",
   "execution_count": null,
   "metadata": {},
   "outputs": [],
   "source": [
    "wp.plot_radiative_cooling_by_level(dat=wrfvars, plot_levels=plot_levels)"
   ]
  },
  {
   "cell_type": "markdown",
   "metadata": {},
   "source": [
    "### Surface flux constraints\n",
    "\n",
    "We use ideal evaporation as per Chua et al. (2019), and a fixed value for surface wind (`surface_wind`) is used in the surface flux calculations. This means that:\n",
    "\n",
    "* In the calculation of the upward moisture flux at the surface (`QFX` in kg m-2 s-1), the value for the exchange coefficient for moisture (`FLQC` in kg m-2 s-1) is replaced by `0.0010*surface_wind`.\n",
    "\n",
    "* The upward heat flux at the surface (`HFX` in W m-2) is calculated as `CP*0.0010*surface_wind*(TSK(I)-T1D(I))` where `CP` is heat capacity at constant pressure for dry air in J kg-1 K-1, `TSK` is surface temperature in K and `T1D` is first-model-level temperature in K. The temperature difference used is the difference in temperature, not the difference in potential temperature that is otherwise used."
   ]
  },
  {
   "cell_type": "markdown",
   "metadata": {},
   "source": [
    "### Model heights\n",
    "\n",
    "\n",
    "The model heights are prescribed so that the geopotential heights of the initial model state are  as close as possible to the height suggested for RCEMIP in Wing et al. (2018). "
   ]
  },
  {
   "cell_type": "code",
   "execution_count": null,
   "metadata": {},
   "outputs": [],
   "source": [
    "# Initial heights:\n",
    "fig, ax = plt.subplots()\n",
    "\n",
    "initial_heights = wrfvars.z.isel(time=0).sel(Dataset='Control')\n",
    "initial_heights.plot(ax=ax)\n",
    "\n",
    "rce_level_heights = wrfvars.z.isel(time=4895).sel(Dataset='Control')#.mean(['time'])\n",
    "rce_level_heights.plot(ax=ax)\n",
    "\n",
    "plt.show()"
   ]
  },
  {
   "cell_type": "markdown",
   "metadata": {},
   "source": [
    "## Perturbation settings\n",
    "\n",
    "### Perturbed model level\n",
    "\n",
    "Perturbations are applied around a certain model level. Note that the WRF model uses $\\sigma$-levels but calls them `eta levels`. Here are the settings used in the perturbed temperature run:"
   ]
  },
  {
   "cell_type": "code",
   "execution_count": null,
   "metadata": {},
   "outputs": [],
   "source": [
    "k_pert = wp.perturbation_details(wrfinput_file=inputs['Perturbed T']+'/wrfinput_d01',\n",
    "                                 comparison_file=inputs['Control']+'/wrfinput_d01')"
   ]
  },
  {
   "cell_type": "markdown",
   "metadata": {},
   "source": [
    "The model pressure at the kth eta level will vary slightly in space and time. Here is the range of pressure values observed for this level in the perturbed run, and a plot of the minimum and maximum values."
   ]
  },
  {
   "cell_type": "code",
   "execution_count": null,
   "metadata": {},
   "outputs": [],
   "source": [
    "wp.pressure_at_kth_eta_level(wrfvars=wrfvars.sel(time=slice(control_start, perturb_end)),\n",
    "                             k_pert=k_pert, dataset='Perturbed T')"
   ]
  },
  {
   "cell_type": "markdown",
   "metadata": {},
   "source": [
    "## Radiative-convective equilibrium (RCE)\n",
    "\n",
    "### Time series of precipitable water\n",
    "\n",
    "To determine when the simulations have reached RCE, we look for stabilisation of the precipitable water (PW) field. Here is spatially-averaged PW by time for each simulation. The green highlighted region is the time span over which average profiles are calculated for the control run, the red region the time over which profiles are averaged for the perturbed runs."
   ]
  },
  {
   "cell_type": "code",
   "execution_count": null,
   "metadata": {},
   "outputs": [],
   "source": [
    "wrfvars.pw.plot(hue='Dataset')\n",
    "plt.axvspan(xmin=control_start, xmax=control_end, alpha=0.3, color='green')\n",
    "plt.axvspan(xmin=perturb_start, xmax=perturb_end, alpha=0.3, color='red')\n",
    "plt.show()"
   ]
  },
  {
   "cell_type": "markdown",
   "metadata": {},
   "source": [
    "### Outgoing longwave radiation fields\n",
    "\n",
    "The outgoing longwave\n",
    "radiation (OLR) field shows where convective cells are occurring. Here we plot cells at the end of each respective RCE period (the highlighted regions in the precipitable water plot)."
   ]
  },
  {
   "cell_type": "code",
   "execution_count": null,
   "metadata": {},
   "outputs": [],
   "source": [
    "wp.plot_OLRs(inputs=inputs, patterns={'Control': 'wrfout*_'+control_end+'_*',\n",
    "                                      'No nudging': 'wrfout*_'+perturb_end+'_*'})"
   ]
  },
  {
   "cell_type": "markdown",
   "metadata": {},
   "source": [
    "## Profiles by time\n",
    "### Horizontal wind"
   ]
  },
  {
   "cell_type": "code",
   "execution_count": null,
   "metadata": {},
   "outputs": [],
   "source": [
    "wind = wp.get_wind(dat=wrfvars)\n",
    "wind.plot(col='Dataset', x='time', figsize=wp.FIGURE_SIZE, cmap='plasma').set_titles('{value}')\n",
    "plt.gca().invert_yaxis()\n",
    "plt.show()"
   ]
  },
  {
   "cell_type": "code",
   "execution_count": null,
   "metadata": {},
   "outputs": [],
   "source": [
    "wrfvars.va.sel(level=plot_levels).plot(hue='Dataset', col='level', sharey=False, col_wrap=2, \n",
    "                                       figsize=[15,8]).set_titles('{value} hPa')\n",
    "plt.savefig('new_winds.png', bbox_inches='tight')\n",
    "plt.show()"
   ]
  },
  {
   "cell_type": "markdown",
   "metadata": {},
   "source": [
    "### Temperature"
   ]
  },
  {
   "cell_type": "code",
   "execution_count": null,
   "metadata": {},
   "outputs": [],
   "source": [
    "wrfvars.tk.plot(col='Dataset', x='time', figsize=wp.FIGURE_SIZE).set_titles('{value}')\n",
    "plt.gca().invert_yaxis()\n",
    "plt.show()"
   ]
  },
  {
   "cell_type": "code",
   "execution_count": null,
   "metadata": {},
   "outputs": [],
   "source": [
    "wrfvars.tk.sel(level=plot_levels).plot(hue='Dataset', col='level', col_wrap=2, sharey=False,\n",
    "                                       figsize=[15,8]).set_titles('{value} hPa')\n",
    "plt.show()"
   ]
  },
  {
   "cell_type": "markdown",
   "metadata": {},
   "source": [
    "### Water vapour mixing ratio"
   ]
  },
  {
   "cell_type": "code",
   "execution_count": null,
   "metadata": {},
   "outputs": [],
   "source": [
    "wrfvars.q.plot(col='Dataset', x='time', figsize=wp.FIGURE_SIZE).set_titles('{value}')\n",
    "plt.gca().invert_yaxis()\n",
    "plt.show()"
   ]
  },
  {
   "cell_type": "code",
   "execution_count": null,
   "metadata": {},
   "outputs": [],
   "source": [
    "wrfvars.q.sel(level=plot_levels).plot(hue='Dataset', col='level', col_wrap=2, sharey=False,\n",
    "                                      figsize=[15,8]).set_titles('{value} hPa')\n",
    "wp.rewrap_labels(plt.gcf().axes, length_y=25)\n",
    "plt.show()"
   ]
  },
  {
   "cell_type": "markdown",
   "metadata": {},
   "source": [
    "### Relative humidity"
   ]
  },
  {
   "cell_type": "code",
   "execution_count": null,
   "metadata": {},
   "outputs": [],
   "source": [
    "wrfvars.rh.plot(y='level', col='Dataset', figsize=wp.FIGURE_SIZE).set_titles('{value}')\n",
    "plt.show()"
   ]
  },
  {
   "cell_type": "code",
   "execution_count": null,
   "metadata": {},
   "outputs": [],
   "source": [
    "wrfvars.rh.sel(level=plot_levels).plot(col='level', hue='Dataset', col_wrap=2, sharey=False,\n",
    "                                       figsize=[15,8]).set_titles('{value} hPa')\n",
    "wp.rewrap_labels(plt.gcf().axes, length_y=25)\n",
    "plt.show()"
   ]
  },
  {
   "cell_type": "markdown",
   "metadata": {},
   "source": [
    "## Mean temperature and humidity profiles over RCE periods"
   ]
  },
  {
   "cell_type": "code",
   "execution_count": null,
   "metadata": {},
   "outputs": [],
   "source": [
    "wp.plot_profiles(wrfvars, control_start=control_start, control_end=control_end, \n",
    "                 other_start=perturb_start, other_end=perturb_end)"
   ]
  },
  {
   "cell_type": "markdown",
   "metadata": {},
   "source": [
    "## Perturbation differences in averaged RCE profiles\n",
    "\n",
    "Differences here are defined as `perturbed - control`. The red vertical line shows zero difference."
   ]
  },
  {
   "cell_type": "code",
   "execution_count": null,
   "metadata": {},
   "outputs": [],
   "source": [
    "wp.compare_profiles(wrfvars, control_start=control_start, control_end=control_end, \n",
    "                            other_start=perturb_start, other_end=perturb_end)"
   ]
  },
  {
   "cell_type": "code",
   "execution_count": null,
   "metadata": {},
   "outputs": [],
   "source": []
  }
 ],
 "metadata": {
  "kernelspec": {
   "display_name": "Python 3",
   "language": "python",
   "name": "python3"
  },
  "language_info": {
   "codemirror_mode": {
    "name": "ipython",
    "version": 3
   },
   "file_extension": ".py",
   "mimetype": "text/x-python",
   "name": "python",
   "nbconvert_exporter": "python",
   "pygments_lexer": "ipython3",
   "version": "3.7.6"
  },
  "toc": {
   "base_numbering": 1,
   "nav_menu": {},
   "number_sections": true,
   "sideBar": true,
   "skip_h1_title": true,
   "title_cell": "Table of Contents",
   "title_sidebar": "Contents",
   "toc_cell": true,
   "toc_position": {},
   "toc_section_display": true,
   "toc_window_display": true
  }
 },
 "nbformat": 4,
 "nbformat_minor": 4
}
