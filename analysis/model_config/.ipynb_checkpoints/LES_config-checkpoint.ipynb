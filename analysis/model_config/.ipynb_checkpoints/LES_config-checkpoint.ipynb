{
 "cells": [
  {
   "cell_type": "markdown",
   "metadata": {},
   "source": [
    "# LES configuration"
   ]
  },
  {
   "cell_type": "markdown",
   "metadata": {},
   "source": [
    "Our LES runs for perturbation studies are at 100 m resolution over a 20 km domain. The starting profiles used are based on the state of the model at RCE at 1 km resolution over the same 20 km domain. This notebook contains the code and working to read these profiles and set up the LES run."
   ]
  },
  {
   "cell_type": "code",
   "execution_count": 1,
   "metadata": {},
   "outputs": [
    {
     "name": "stdout",
     "output_type": "stream",
     "text": [
      "Report last updated at 2020-12-14 04:30:04.990775 UTC.\n"
     ]
    }
   ],
   "source": [
    "import modules.rcemip_profile as rcemip\n",
    "import modules.wrf_perturbation as wp\n",
    "import modules.wrf_profile as wrfprof\n",
    "import modules.atmosphere as at\n",
    "import matplotlib.pyplot as plt\n",
    "import pandas as pd\n",
    "import numpy as np\n",
    "import scipy as sp\n",
    "import datetime\n",
    "import xarray\n",
    "import glob\n",
    "import os\n",
    "\n",
    "print(\"Report last updated at \" + str(datetime.datetime.utcnow()) + ' UTC.')"
   ]
  },
  {
   "cell_type": "markdown",
   "metadata": {},
   "source": [
    "## Settings"
   ]
  },
  {
   "cell_type": "code",
   "execution_count": 2,
   "metadata": {},
   "outputs": [],
   "source": [
    "rce_dir   = '/g/data/up6/tr2908/em_quarter_ss/v4.1.4/original_1km/output/1km/RCE/' # 1km data.\n",
    "les_dir   = '/g/data/up6/tr2908/em_quarter_ss/v4.1.4/original_1km/run/LES/RCE/'    # Output directory.\n",
    "rce_start = wp.as_date('2000-03-25')                                               # RCE start time. \n",
    "rce_end   = wp.as_date('2000-04-01')                                               # RCE end time.\n",
    "sst       = 301.15                                                                 # SST [K]."
   ]
  },
  {
   "cell_type": "markdown",
   "metadata": {},
   "source": [
    "## Read 1 km RCE data "
   ]
  },
  {
   "cell_type": "code",
   "execution_count": 3,
   "metadata": {},
   "outputs": [],
   "source": [
    "rce = xarray.open_mfdataset(rce_dir + 'wrfvars*')\n",
    "rce_profs = rce.sel(time=slice(rce_start, rce_end)).mean('time', keep_attrs=True)"
   ]
  },
  {
   "cell_type": "markdown",
   "metadata": {},
   "source": [
    "`eta_T` (K) is perturbation potential temperature minus `t0` (300 K) at full eta levels, and `eta_q` is water vapour mixing ratio in kg kg-1. Convert `eta_T` to full potential temperature (`theta`) and `eta_q` to have units of `g kg-1` (`q`)."
   ]
  },
  {
   "cell_type": "code",
   "execution_count": 4,
   "metadata": {},
   "outputs": [],
   "source": [
    "rce_profs['theta'] = rce_profs.eta_T + 300 \n",
    "rce_profs['q'] = rce_profs.eta_q\n",
    "rce_profs['tk'] = rce_profs.eta_tk\n",
    "rce_profs.theta.attrs = {'long_name': 'Potential temperature', 'units': 'K'}\n",
    "rce_profs = rce_profs[['z', 'theta', 'q', 'tk']]"
   ]
  },
  {
   "cell_type": "markdown",
   "metadata": {},
   "source": [
    "## Construct the input sounding file"
   ]
  },
  {
   "cell_type": "markdown",
   "metadata": {},
   "source": [
    "The input sounding uses the RCE values from the 1 km simulations for the profiles of height, potential temperature, and specific humidity (water vapour mixing ratio). The surface values are produced using the RCE value for pressure, a value extrapolated from the profile for specific humidity, and the potential temperature based on the prescribed SST and surface pressure."
   ]
  },
  {
   "cell_type": "code",
   "execution_count": 5,
   "metadata": {},
   "outputs": [],
   "source": [
    "# Determine surface pressure from RCE outputs at 1 km resolution.\n",
    "files = sorted(glob.glob(rce_dir+'wrfout_d01_2000-03-[2-3]*'))[-7:]\n",
    "outdat = []\n",
    "for file in files:\n",
    "    outdat.append(xarray.open_dataset(file))\n",
    "    \n",
    "outdat = xarray.combine_nested(outdat, concat_dim='Time') \n",
    "\n",
    "assert not np.any(outdat.XTIME.values < np.datetime64(rce_start))\n",
    "assert not np.any(outdat.XTIME.values > np.datetime64(rce_end))"
   ]
  },
  {
   "cell_type": "code",
   "execution_count": 6,
   "metadata": {},
   "outputs": [
    {
     "name": "stdout",
     "output_type": "stream",
     "text": [
      "RCE surface values:\n",
      "Pressure:\t\t1013.30609375 hPa\n",
      "Potential temperature:\t300.0148007962139 K\n",
      "Specific humidity:\t0.014063041657209396 g kg-1\n"
     ]
    }
   ],
   "source": [
    "# Surface pressure in hPa.\n",
    "surf_p = outdat.PSFC.mean().values / 100\n",
    "\n",
    "# Interpolate profile to get surface q.\n",
    "surf_q = np.interp(0, rce_profs.z, rce_profs.q)\n",
    "\n",
    "# Surface potential temp is based on the pressure and SST.\n",
    "surf_T = at.potential_temp(T=sst, p=surf_p)\n",
    "\n",
    "# Write the profile to input_profile.\n",
    "wrfprof.write_input_sounding(out_dir=les_dir, surface_p=surf_p, surface_q=surf_q, surface_T=surf_T, \n",
    "                             profile=rce_profs, indexed=False)\n",
    "\n",
    "# Print the line to add to the top of the input_sounding.les file.\n",
    "print('RCE surface values:')\n",
    "print('Pressure:\\t\\t' + str(surf_p) + ' hPa')\n",
    "print('Potential temperature:\\t' + str(surf_T) + ' K')\n",
    "print('Specific humidity:\\t' + str(surf_q) + ' g kg-1')"
   ]
  },
  {
   "cell_type": "markdown",
   "metadata": {},
   "source": [
    "## Determine $\\eta$-values for desired height profile"
   ]
  },
  {
   "cell_type": "code",
   "execution_count": 7,
   "metadata": {},
   "outputs": [],
   "source": [
    "# Determine 1 km model top height at RCE.\n",
    "vert_diff = rce_profs.z.diff('bottom_top').values[-15:].mean()\n",
    "ztop_1km = np.round(rce_profs.z.max().values + vert_diff / 2, 0)\n",
    "\n",
    "# Desired mass point heights will be interpolated versions of the RCEMIP suggested heights \n",
    "# to 3000 m, then 100 m gaps afterwards to the model top height of the RCE state at 1 km.\n",
    "z_from = rcemip.suggested_heights()\n",
    "z_from = np.concatenate([[0], z_from])[0:15]\n",
    "z_idx = np.linspace(0, 1, len(z_from))\n",
    "z_newidx = np.linspace(0, 1, np.int(len(z_from)*5))\n",
    "z_les = np.round(np.interp(z_newidx, z_idx, z_from), 0)\n",
    "z_les = np.concatenate([z_les[1:], np.arange(3100, ztop_1km, step=100)])\n",
    "assert np.all(np.diff(z_les) <= 100) # Check that all vertical differences will be <= 100 m."
   ]
  },
  {
   "cell_type": "code",
   "execution_count": 8,
   "metadata": {},
   "outputs": [
    {
     "name": "stdout",
     "output_type": "stream",
     "text": [
      "[0.999594, 0.998806, 0.998018, 0.997231, 0.996443, 0.995374, 0.993911,\n",
      " 0.992279, 0.990648, 0.989072, 0.987444, 0.985765, 0.984032, 0.982299,\n",
      " 0.980566, 0.978780, 0.976944, 0.975001, 0.973003, 0.971005, 0.969063,\n",
      " 0.967019, 0.964762, 0.962504, 0.960302, 0.958099, 0.955743, 0.953233,\n",
      " 0.950670, 0.948106, 0.945543, 0.942881, 0.940017, 0.936996, 0.934029,\n",
      " 0.931062, 0.928050, 0.924791, 0.921223, 0.917656, 0.914142, 0.910633,\n",
      " 0.906786, 0.902543, 0.898247, 0.893899, 0.889552, 0.885040, 0.880060,\n",
      " 0.874826, 0.869643, 0.864460, 0.859174, 0.853358, 0.847065, 0.840773,\n",
      " 0.834480, 0.828229, 0.821640, 0.814577, 0.807417, 0.800257, 0.793120,\n",
      " 0.785798, 0.778080, 0.770177, 0.762274, 0.754371, 0.746486, 0.738409,\n",
      " 0.730077, 0.721702, 0.713370, 0.705174, 0.696873, 0.688375, 0.679878,\n",
      " 0.671381, 0.663037, 0.654895, 0.646800, 0.638706, 0.630611, 0.622687,\n",
      " 0.614960, 0.607257, 0.599555, 0.591853, 0.584332, 0.576997, 0.569668,\n",
      " 0.562339, 0.555021, 0.547885, 0.540916, 0.533948, 0.526980, 0.520038,\n",
      " 0.513269, 0.506643, 0.500017, 0.493392, 0.486808, 0.480389, 0.474094,\n",
      " 0.467799, 0.461505, 0.455264, 0.449180, 0.443197, 0.437214, 0.431232,\n",
      " 0.425317, 0.419552, 0.413870, 0.408188, 0.402506, 0.396903, 0.391441,\n",
      " 0.386042, 0.380643, 0.375244, 0.369937, 0.364766, 0.359640, 0.354513,\n",
      " 0.349386, 0.344363, 0.339468, 0.334598, 0.329727, 0.324857, 0.320105,\n",
      " 0.315478, 0.310855, 0.306232, 0.301624, 0.297134, 0.292744, 0.288354,\n",
      " 0.283964, 0.279612, 0.275373, 0.271210, 0.267046, 0.262883, 0.258779,\n",
      " 0.254781, 0.250831, 0.246882, 0.242932, 0.239066, 0.235304, 0.231564,\n",
      " 0.227823, 0.224089, 0.220454, 0.216911, 0.213367, 0.209824, 0.206317,\n",
      " 0.202907, 0.199558, 0.196209, 0.192860, 0.189575, 0.186383, 0.183220,\n",
      " 0.180056, 0.176896, 0.173831, 0.170855, 0.167880, 0.164904, 0.161966,\n",
      " 0.159124, 0.156339, 0.153554, 0.150769, 0.148062, 0.145460, 0.142885,\n",
      " 0.140311, 0.137739, 0.135273, 0.132912, 0.130551, 0.128190, 0.125852,\n",
      " 0.123620, 0.121471, 0.119322, 0.117174, 0.115054, 0.113029, 0.111069,\n",
      " 0.109109, 0.107149, 0.105220, 0.103377, 0.101590, 0.099802, 0.098015,\n",
      " 0.096254, 0.094568, 0.092928, 0.091287, 0.089647, 0.088032, 0.086485,\n",
      " 0.084982, 0.083478, 0.081975, 0.080492, 0.079069, 0.077684, 0.076300,\n",
      " 0.074915, 0.073549, 0.072241, 0.070969, 0.069698, 0.068427, 0.067172,\n",
      " 0.065966, 0.064794, 0.063622, 0.062450, 0.061294, 0.060185, 0.059110,\n",
      " 0.058034, 0.056959, 0.055896, 0.054875, 0.053883, 0.052891, 0.051899,\n",
      " 0.050920, 0.049982, 0.049072, 0.048163, 0.047253, 0.046354, 0.045489,\n",
      " 0.044651, 0.043812, 0.042973, 0.042144, 0.041350, 0.040581, 0.039813,\n",
      " 0.039044, 0.038283, 0.037551, 0.036842, 0.036133, 0.035423, 0.034722,\n",
      " 0.034050, 0.033400, 0.032751, 0.032101, 0.031457, 0.030838, 0.030238,\n",
      " 0.029638, 0.029038, 0.028444, 0.027875, 0.027326, 0.026777, 0.026228,\n",
      " 0.025683, 0.025159, 0.024651, 0.024144, 0.023636, 0.023133, 0.022652,\n",
      " 0.022187, 0.021723, 0.021259, 0.020798, 0.020354, 0.019925, 0.019496,\n",
      " 0.019066, 0.018640, 0.018233, 0.017841, 0.017449, 0.017057, 0.016666,\n",
      " 0.016291, 0.015928, 0.015565, 0.015201, 0.014841, 0.014496, 0.014165,\n",
      " 0.013833, 0.013502, 0.013172, 0.012854, 0.012547, 0.012240, 0.011933,\n",
      " 0.011627, 0.011335, 0.011055, 0.010775, 0.010496, 0.010217, 0.009947,\n",
      " 0.009687, 0.009427, 0.009168, 0.008909, 0.008661, 0.008425, 0.008188,\n",
      " 0.007952, 0.007716, 0.007488, 0.007268, 0.007047, 0.006827, 0.006608,\n",
      " 0.006398, 0.006199, 0.005999, 0.005799, 0.005599, 0.005407, 0.005220,\n",
      " 0.005034, 0.004848, 0.004662, 0.004485, 0.004317, 0.004148, 0.003980,\n",
      " 0.003812, 0.003649, 0.003491, 0.003334, 0.003177, 0.003019, 0.002869,\n",
      " 0.002727, 0.002585, 0.002443, 0.002301, 0.002163, 0.002030, 0.001897,\n",
      " 0.001763, 0.001630, 0.001503, 0.001383, 0.001263, 0.001143, 0.001023,\n",
      " 0.000906, 0.000793, 0.000680, 0.000567, 0.000454, 0.000341, 0.000228,]\n"
     ]
    }
   ],
   "source": [
    "# Get 1 km mass-point etas.\n",
    "eta_h_1km = xarray.open_dataset(rce_dir + 'wrfinput_d01').ZNU.values[0]\n",
    "\n",
    "# Interpolate eta values using mass-point height (z) as the index.\n",
    "interp = sp.interpolate.interp1d(rce_profs.z.values, eta_h_1km, fill_value='extrapolate' )\n",
    "eta_h_les = interp(z_les) # Interpolated etas for mass points at z_les altitudes.\n",
    "\n",
    "# Convert half (mass-point) etas to full etas (roughly by using means).\n",
    "eta_les = (eta_h_les[0:len(eta_h_les)-1] + eta_h_les[1:]) / 2\n",
    "eta_les = np.concatenate([[eta_h_les[0] - (eta_h_les[1] - eta_h_les[0]) / 2], eta_les])\n",
    "\n",
    "# Discard etas < 0 that may occur because the 1 km simulation top height is less than 33000 m.\n",
    "eta_les = eta_les[np.where(eta_les >= 0)]\n",
    "eta_h_les = eta_h_les[0:len(eta_les)-1]\n",
    "z_les = z_les[0:len(eta_les)-1]\n",
    "\n",
    "# Sanity check on lengths of arrays and half levels appearing between mass levels.\n",
    "assert np.all(eta_les[1:len(eta_les)] < eta_h_les)\n",
    "assert np.all(eta_les[0:len(eta_les)-1] > eta_h_les)\n",
    "assert len(eta_h_les) == len(eta_les)-1\n",
    "\n",
    "print(np.array2string(np.round(eta_les,6), formatter={'float_kind':'{0:.6f},'.format}))"
   ]
  },
  {
   "cell_type": "markdown",
   "metadata": {},
   "source": [
    "As well as adding the eta level values above, the following settings should be changed in the `namelist.input` file to match the 1 km RCE output:"
   ]
  },
  {
   "cell_type": "code",
   "execution_count": 9,
   "metadata": {},
   "outputs": [
    {
     "name": "stdout",
     "output_type": "stream",
     "text": [
      "Value for ztop:\t\t32765\n",
      "Value for e_vert:\t371\n"
     ]
    }
   ],
   "source": [
    "print('Value for ztop:\\t\\t' + str(int(ztop_1km)))\n",
    "print('Value for e_vert:\\t' + str(len(eta_les)))"
   ]
  },
  {
   "cell_type": "code",
   "execution_count": 10,
   "metadata": {},
   "outputs": [
    {
     "data": {
      "text/plain": [
       "<matplotlib.legend.Legend at 0x7fd3573b1410>"
      ]
     },
     "execution_count": 10,
     "metadata": {},
     "output_type": "execute_result"
    },
    {
     "data": {
      "image/png": "[encoded data removed]",
      "text/plain": [
       "<Figure size 432x288 with 1 Axes>"
      ]
     },
     "metadata": {
      "needs_background": "light"
     },
     "output_type": "display_data"
    }
   ],
   "source": [
    "plt.plot(z_les, eta_h_les, 'x', color='red', label='LES eta values')\n",
    "plt.plot(rce_profs.z.values, eta_h_1km, 'x', color='blue', label='1 km eta values')\n",
    "plt.xlabel('Index')\n",
    "plt.ylabel('eta')\n",
    "plt.legend()"
   ]
  },
  {
   "cell_type": "markdown",
   "metadata": {},
   "source": [
    "## Write profiles of temperature and water vapour mixing ratio"
   ]
  },
  {
   "cell_type": "markdown",
   "metadata": {},
   "source": [
    "Use simple linear inteprolation/extrapolation to find the values of specific humidity and temperature at each of the new eta levels."
   ]
  },
  {
   "cell_type": "code",
   "execution_count": 11,
   "metadata": {},
   "outputs": [],
   "source": [
    "# Interpolate q and temperature on half (mass) points.\n",
    "interp_q = sp.interpolate.interp1d(eta_h_1km, rce_profs.q.values, fill_value='extrapolate')\n",
    "interp_tk = sp.interpolate.interp1d(eta_h_1km, rce_profs.tk.values, fill_value='extrapolate')\n",
    "\n",
    "rce_q = interp_q(eta_h_les)\n",
    "rce_tk = interp_tk(eta_h_les)"
   ]
  },
  {
   "cell_type": "markdown",
   "metadata": {},
   "source": [
    "Plot temperature profiles to see that the interpolation looks ok:"
   ]
  },
  {
   "cell_type": "code",
   "execution_count": 12,
   "metadata": {},
   "outputs": [
    {
     "data": {
      "image/png": "[encoded data removed]",
      "text/plain": [
       "<Figure size 432x288 with 1 Axes>"
      ]
     },
     "metadata": {
      "needs_background": "light"
     },
     "output_type": "display_data"
    }
   ],
   "source": [
    "plt.plot(rce_profs.tk.values, eta_h_1km, 'x', color='red')\n",
    "plt.plot(rce_tk, eta_h_les)\n",
    "plt.gca().invert_yaxis()"
   ]
  },
  {
   "cell_type": "markdown",
   "metadata": {},
   "source": [
    "Plot specific humidity profiles to see that the interpolation looks ok:"
   ]
  },
  {
   "cell_type": "code",
   "execution_count": 13,
   "metadata": {},
   "outputs": [
    {
     "data": {
      "image/png": "[encoded data removed]",
      "text/plain": [
       "<Figure size 432x288 with 1 Axes>"
      ]
     },
     "metadata": {
      "needs_background": "light"
     },
     "output_type": "display_data"
    }
   ],
   "source": [
    "plt.plot(rce_profs.q.values, eta_h_1km, 'x', color='red')\n",
    "plt.plot(rce_q, eta_h_les)\n",
    "plt.gca().invert_yaxis()"
   ]
  },
  {
   "cell_type": "code",
   "execution_count": 14,
   "metadata": {},
   "outputs": [],
   "source": [
    "assert not os.path.exists(les_dir + '/RCE_T'), 'Output file RCE_T already exists.'\n",
    "assert not os.path.exists(les_dir + '/RCE_q'), 'Output file RCE_q already exists.'\n",
    "pd.DataFrame.from_dict({'q': rce_q}).to_csv(les_dir+'/RCE_q', header=False, index=False)\n",
    "pd.DataFrame.from_dict({'T': rce_tk}).to_csv(les_dir+'/RCE_T', header=False, index=False)"
   ]
  },
  {
   "cell_type": "markdown",
   "metadata": {},
   "source": [
    "## Check in on heights generated by `ideal.exe`:"
   ]
  },
  {
   "cell_type": "markdown",
   "metadata": {},
   "source": [
    "**Important** Now run `run_ideal.sh` to generate the `wrfinput` file using the updated eta values, before running the next code blocks. The resulting heights will be different from the desired heights in `z_les`, but they should have similar spacing across the range."
   ]
  },
  {
   "cell_type": "code",
   "execution_count": 15,
   "metadata": {},
   "outputs": [
    {
     "name": "stdout",
     "output_type": "stream",
     "text": [
      "Maximum grid point height difference: 106 m\n"
     ]
    }
   ],
   "source": [
    "les_input = xarray.open_dataset(les_dir+'/wrfinput_d01')\n",
    "level_heights = les_input.Z_BASE.sel(Time=0).values\n",
    "print('Maximum grid point height difference: ' + str(int(np.max(np.abs(np.diff(level_heights))))) + ' m')"
   ]
  },
  {
   "cell_type": "code",
   "execution_count": 16,
   "metadata": {},
   "outputs": [
    {
     "data": {
      "image/png": "[encoded data removed]",
      "text/plain": [
       "<Figure size 432x288 with 1 Axes>"
      ]
     },
     "metadata": {
      "needs_background": "light"
     },
     "output_type": "display_data"
    }
   ],
   "source": [
    "plt.plot(level_heights[0:len(level_heights)-1], np.diff(level_heights), 'x')\n",
    "plt.axhline(100, color='red')\n",
    "plt.xlabel('Model height [m]')\n",
    "plt.ylabel('Dist. between vertical levels [m]')\n",
    "plt.show()"
   ]
  },
  {
   "cell_type": "code",
   "execution_count": null,
   "metadata": {},
   "outputs": [],
   "source": []
  }
 ],
 "metadata": {
  "kernelspec": {
   "display_name": "Python 3",
   "language": "python",
   "name": "python3"
  },
  "language_info": {
   "codemirror_mode": {
    "name": "ipython",
    "version": 3
   },
   "file_extension": ".py",
   "mimetype": "text/x-python",
   "name": "python",
   "nbconvert_exporter": "python",
   "pygments_lexer": "ipython3",
   "version": "3.7.8"
  },
  "toc": {
   "base_numbering": 1,
   "nav_menu": {},
   "number_sections": true,
   "sideBar": true,
   "skip_h1_title": true,
   "title_cell": "Table of contents",
   "title_sidebar": "Contents",
   "toc_cell": false,
   "toc_position": {},
   "toc_section_display": true,
   "toc_window_display": false
  }
 },
 "nbformat": 4,
 "nbformat_minor": 4
}
