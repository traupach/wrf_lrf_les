{
 "cells": [
  {
   "cell_type": "markdown",
   "metadata": {},
   "source": [
    "# WRF perturbations - difference in wind relaxation schemes"
   ]
  },
  {
   "cell_type": "code",
   "execution_count": 1,
   "metadata": {
    "tags": []
   },
   "outputs": [
    {
     "name": "stdout",
     "output_type": "stream",
     "text": [
      "/home/561/tr2908/git/wrf_lrf_les\n"
     ]
    }
   ],
   "source": [
    "%cd git/wrf_lrf_les/"
   ]
  },
  {
   "cell_type": "code",
   "execution_count": 2,
   "metadata": {
    "tags": []
   },
   "outputs": [
    {
     "name": "stdout",
     "output_type": "stream",
     "text": [
      "Report last updated at 2024-06-12 12:58:23.067387 UTC.\n"
     ]
    }
   ],
   "source": [
    "import sys\n",
    "sys.path.append('analysis/')\n",
    "\n",
    "import modules.wrf_perturbation as wp\n",
    "from dask.distributed import Client\n",
    "import matplotlib.pyplot as plt\n",
    "from importlib import reload\n",
    "import seaborn as sns\n",
    "import pandas as pd\n",
    "import numpy as np\n",
    "import datetime\n",
    "import xarray\n",
    "import dask\n",
    "\n",
    "print(\"Report last updated at \" + str(datetime.datetime.utcnow()) + ' UTC.')"
   ]
  },
  {
   "cell_type": "code",
   "execution_count": 3,
   "metadata": {
    "tags": []
   },
   "outputs": [
    {
     "name": "stdout",
     "output_type": "stream",
     "text": [
      "<Client: 'tcp://127.0.0.1:43227' processes=7 threads=28, memory=125.18 GiB>\n"
     ]
    },
    {
     "name": "stderr",
     "output_type": "stream",
     "text": [
      "2024-06-12 23:18:56,004 - distributed.utils_perf - WARNING - full garbage collections took 11% CPU time recently (threshold: 10%)\n",
      "2024-06-12 23:19:07,016 - distributed.utils_perf - WARNING - full garbage collections took 11% CPU time recently (threshold: 10%)\n",
      "2024-06-12 23:19:13,081 - distributed.scheduler - WARNING - Removing worker 'tcp://127.0.0.1:39377' caused the cluster to lose already computed task(s), which will be recomputed elsewhere: {('concatenate-149be54c170da2cc4b7551d057b78f75', 63, 0), ('concatenate-149be54c170da2cc4b7551d057b78f75', 17, 0), 'original-open_dataset-T-4b705874687ee152721485a646e2677b', ('concatenate-149be54c170da2cc4b7551d057b78f75', 76, 0), ('open_dataset-T-concatenate-149be54c170da2cc4b7551d057b78f75', 23, 0), ('concatenate-149be54c170da2cc4b7551d057b78f75', 36, 0), ('concatenate-149be54c170da2cc4b7551d057b78f75', 49, 0), ('concatenate-149be54c170da2cc4b7551d057b78f75', 38, 0), ('concatenate-149be54c170da2cc4b7551d057b78f75', 7, 0), ('concatenate-01a238cb7516511af30a342bb21e33c8', 5, 0, 0), ('concatenate-149be54c170da2cc4b7551d057b78f75', 5, 0), ('concatenate-149be54c170da2cc4b7551d057b78f75', 64, 0), ('concatenate-01a238cb7516511af30a342bb21e33c8', 2, 0, 0), ('concatenate-149be54c170da2cc4b7551d057b78f75', 33, 0), ('concatenate-149be54c170da2cc4b7551d057b78f75', 90, 0), ('array-0ff86cbfa987ac068adf44a10729f321', 0, 0, 0), ('concatenate-149be54c170da2cc4b7551d057b78f75', 88, 0), ('concatenate-01a238cb7516511af30a342bb21e33c8', 10, 0, 0), 'original-open_dataset-T-7d30a52b48bedf85a83971cc9b337d9e', ('concatenate-149be54c170da2cc4b7551d057b78f75', 19, 0), 'original-open_dataset-T-3d16e8e1abdc6af7d5c50fc046569a62'} (stimulus_id='handle-worker-cleanup-1718198353.0810103')\n",
      "2024-06-12 23:19:13,107 - distributed.scheduler - WARNING - Removing worker 'tcp://127.0.0.1:39615' caused the cluster to lose already computed task(s), which will be recomputed elsewhere: {('concatenate-149be54c170da2cc4b7551d057b78f75', 41, 0), ('concatenate-149be54c170da2cc4b7551d057b78f75', 74, 0), ('concatenate-149be54c170da2cc4b7551d057b78f75', 47, 0), ('concatenate-149be54c170da2cc4b7551d057b78f75', 91, 0), ('concatenate-149be54c170da2cc4b7551d057b78f75', 75, 0), ('open_dataset-T-concatenate-149be54c170da2cc4b7551d057b78f75', 25, 0), ('concatenate-149be54c170da2cc4b7551d057b78f75', 15, 0), ('concatenate-149be54c170da2cc4b7551d057b78f75', 60, 0), ('concatenate-149be54c170da2cc4b7551d057b78f75', 6, 0), 'original-open_dataset-T-3af20e72dfed51f99b5fa7e669dc41bb', ('concatenate-149be54c170da2cc4b7551d057b78f75', 4, 0), ('concatenate-149be54c170da2cc4b7551d057b78f75', 45, 0), ('concatenate-149be54c170da2cc4b7551d057b78f75', 21, 0), ('concatenate-149be54c170da2cc4b7551d057b78f75', 73, 0), 'original-open_dataset-T-bd8f20c3b8ebdef4844632a3bd17fff5', ('concatenate-01a238cb7516511af30a342bb21e33c8', 12, 0, 0)} (stimulus_id='handle-worker-cleanup-1718198353.107572')\n",
      "2024-06-12 23:19:13,153 - distributed.scheduler - WARNING - Removing worker 'tcp://127.0.0.1:44951' caused the cluster to lose already computed task(s), which will be recomputed elsewhere: {('concatenate-0bd0081b7c9c641a677ce766662a8f8c', 54, 0), ('concatenate-0bd0081b7c9c641a677ce766662a8f8c', 80, 0), ('concatenate-0bd0081b7c9c641a677ce766662a8f8c', 56, 0), ('concatenate-0bd0081b7c9c641a677ce766662a8f8c', 78, 0), ('concatenate-0bd0081b7c9c641a677ce766662a8f8c', 23, 0), ('concatenate-149be54c170da2cc4b7551d057b78f75', 32, 0), ('concatenate-0bd0081b7c9c641a677ce766662a8f8c', 60, 0), ('concatenate-0bd0081b7c9c641a677ce766662a8f8c', 36, 0), ('concatenate-0bd0081b7c9c641a677ce766662a8f8c', 47, 0), 'original-open_dataset-T-44ec7395fa9021d7ec36feb0597afdb2', ('concatenate-0bd0081b7c9c641a677ce766662a8f8c', 84, 0), 'original-open_dataset-T-2ee3751ada4b488d1b34054c452ad1b5', ('concatenate-149be54c170da2cc4b7551d057b78f75', 67, 0), ('concatenate-0bd0081b7c9c641a677ce766662a8f8c', 82, 0), ('concatenate-149be54c170da2cc4b7551d057b78f75', 12, 0), ('concatenate-0bd0081b7c9c641a677ce766662a8f8c', 86, 0), ('concatenate-0bd0081b7c9c641a677ce766662a8f8c', 62, 0), ('concatenate-149be54c170da2cc4b7551d057b78f75', 1, 0), ('concatenate-149be54c170da2cc4b7551d057b78f75', 27, 0), ('concatenate-0bd0081b7c9c641a677ce766662a8f8c', 55, 0), ('concatenate-149be54c170da2cc4b7551d057b78f75', 82, 0), ('concatenate-0bd0081b7c9c641a677ce766662a8f8c', 9, 0), ('concatenate-0bd0081b7c9c641a677ce766662a8f8c', 53, 0), ('concatenate-0bd0081b7c9c641a677ce766662a8f8c', 0, 0), ('concatenate-0bd0081b7c9c641a677ce766662a8f8c', 22, 0), ('concatenate-149be54c170da2cc4b7551d057b78f75', 40, 0), ('concatenate-0bd0081b7c9c641a677ce766662a8f8c', 13, 0), ('concatenate-149be54c170da2cc4b7551d057b78f75', 24, 0), ('concatenate-149be54c170da2cc4b7551d057b78f75', 51, 0), ('concatenate-149be54c170da2cc4b7551d057b78f75', 84, 0), ('concatenate-0bd0081b7c9c641a677ce766662a8f8c', 2, 0), ('concatenate-0bd0081b7c9c641a677ce766662a8f8c', 35, 0), ('concatenate-0bd0081b7c9c641a677ce766662a8f8c', 24, 0), ('concatenate-0bd0081b7c9c641a677ce766662a8f8c', 79, 0), ('concatenate-0bd0081b7c9c641a677ce766662a8f8c', 57, 0), ('concatenate-01a238cb7516511af30a342bb21e33c8', 14, 0, 0), ('concatenate-0bd0081b7c9c641a677ce766662a8f8c', 26, 0), ('concatenate-0bd0081b7c9c641a677ce766662a8f8c', 59, 0), ('concatenate-0bd0081b7c9c641a677ce766662a8f8c', 50, 0), 'original-open_dataset-T-a4bdbc9e4d603ae193e188b99193c3f7', ('concatenate-0bd0081b7c9c641a677ce766662a8f8c', 39, 0), ('concatenate-0bd0081b7c9c641a677ce766662a8f8c', 4, 0), ('concatenate-0bd0081b7c9c641a677ce766662a8f8c', 37, 0), ('concatenate-149be54c170da2cc4b7551d057b78f75', 46, 0), ('concatenate-0bd0081b7c9c641a677ce766662a8f8c', 61, 0), ('concatenate-0bd0081b7c9c641a677ce766662a8f8c', 83, 0), ('concatenate-0bd0081b7c9c641a677ce766662a8f8c', 76, 0), ('concatenate-0bd0081b7c9c641a677ce766662a8f8c', 19, 0), ('concatenate-0bd0081b7c9c641a677ce766662a8f8c', 85, 0), ('concatenate-0bd0081b7c9c641a677ce766662a8f8c', 74, 0), ('concatenate-149be54c170da2cc4b7551d057b78f75', 70, 0), ('concatenate-0bd0081b7c9c641a677ce766662a8f8c', 10, 0), ('concatenate-0bd0081b7c9c641a677ce766662a8f8c', 21, 0), ('concatenate-01a238cb7516511af30a342bb21e33c8', 1, 0, 0), ('concatenate-0bd0081b7c9c641a677ce766662a8f8c', 67, 0), ('concatenate-0bd0081b7c9c641a677ce766662a8f8c', 25, 0), ('concatenate-0bd0081b7c9c641a677ce766662a8f8c', 1, 0), ('concatenate-0bd0081b7c9c641a677ce766662a8f8c', 34, 0), ('concatenate-0bd0081b7c9c641a677ce766662a8f8c', 89, 0), ('concatenate-149be54c170da2cc4b7551d057b78f75', 52, 0)} (stimulus_id='handle-worker-cleanup-1718198353.1530094')\n",
      "2024-06-12 23:19:13,174 - distributed.scheduler - WARNING - Removing worker 'tcp://127.0.0.1:34021' caused the cluster to lose already computed task(s), which will be recomputed elsewhere: {('concatenate-149be54c170da2cc4b7551d057b78f75', 72, 0), ('concatenate-149be54c170da2cc4b7551d057b78f75', 85, 0), ('concatenate-0bd0081b7c9c641a677ce766662a8f8c', 14, 0), ('concatenate-149be54c170da2cc4b7551d057b78f75', 8, 0), ('concatenate-0bd0081b7c9c641a677ce766662a8f8c', 58, 0), ('concatenate-149be54c170da2cc4b7551d057b78f75', 54, 0), ('concatenate-0bd0081b7c9c641a677ce766662a8f8c', 5, 0), ('concatenate-0bd0081b7c9c641a677ce766662a8f8c', 38, 0), ('array-6144546d88db6c57351eb77bd4b01410', 0, 0, 0), ('concatenate-149be54c170da2cc4b7551d057b78f75', 69, 0), ('open_dataset-T-concatenate-149be54c170da2cc4b7551d057b78f75', 16, 0), ('concatenate-0bd0081b7c9c641a677ce766662a8f8c', 33, 0), ('concatenate-149be54c170da2cc4b7551d057b78f75', 42, 0), ('concatenate-0bd0081b7c9c641a677ce766662a8f8c', 70, 0), ('concatenate-0bd0081b7c9c641a677ce766662a8f8c', 68, 0), ('concatenate-0bd0081b7c9c641a677ce766662a8f8c', 90, 0), ('concatenate-149be54c170da2cc4b7551d057b78f75', 29, 0), ('concatenate-149be54c170da2cc4b7551d057b78f75', 44, 0), ('concatenate-149be54c170da2cc4b7551d057b78f75', 9, 0), ('concatenate-149be54c170da2cc4b7551d057b78f75', 20, 0), ('open_dataset-T-concatenate-149be54c170da2cc4b7551d057b78f75', 11, 0), 'original-open_dataset-T-52a9988be9443a94b7a6bb84e2cb94f1', ('open_dataset-T-concatenate-149be54c170da2cc4b7551d057b78f75', 0, 0), ('concatenate-0bd0081b7c9c641a677ce766662a8f8c', 28, 0), ('concatenate-149be54c170da2cc4b7551d057b78f75', 55, 0), ('concatenate-149be54c170da2cc4b7551d057b78f75', 37, 0), ('concatenate-0bd0081b7c9c641a677ce766662a8f8c', 8, 0), ('concatenate-0bd0081b7c9c641a677ce766662a8f8c', 65, 0), ('concatenate-0bd0081b7c9c641a677ce766662a8f8c', 41, 0), ('concatenate-149be54c170da2cc4b7551d057b78f75', 59, 0), ('concatenate-01a238cb7516511af30a342bb21e33c8', 11, 0, 0)} (stimulus_id='handle-worker-cleanup-1718198353.1738014')\n",
      "2024-06-12 23:19:13,181 - distributed.scheduler - WARNING - Removing worker 'tcp://127.0.0.1:45663' caused the cluster to lose already computed task(s), which will be recomputed elsewhere: {('concatenate-0bd0081b7c9c641a677ce766662a8f8c', 87, 0), ('concatenate-0bd0081b7c9c641a677ce766662a8f8c', 12, 0), ('concatenate-149be54c170da2cc4b7551d057b78f75', 50, 0), ('concatenate-149be54c170da2cc4b7551d057b78f75', 39, 0), ('concatenate-0bd0081b7c9c641a677ce766662a8f8c', 71, 0), ('concatenate-0bd0081b7c9c641a677ce766662a8f8c', 3, 0), ('concatenate-0bd0081b7c9c641a677ce766662a8f8c', 51, 0), ('concatenate-0bd0081b7c9c641a677ce766662a8f8c', 27, 0), ('concatenate-149be54c170da2cc4b7551d057b78f75', 78, 0), 'original-open_dataset-T-650190577e272dfd1444eb9e84ee9034', ('concatenate-149be54c170da2cc4b7551d057b78f75', 89, 0), ('concatenate-149be54c170da2cc4b7551d057b78f75', 43, 0), ('concatenate-0bd0081b7c9c641a677ce766662a8f8c', 40, 0), ('concatenate-149be54c170da2cc4b7551d057b78f75', 3, 0), ('concatenate-0bd0081b7c9c641a677ce766662a8f8c', 77, 0), ('concatenate-0bd0081b7c9c641a677ce766662a8f8c', 42, 0), ('concatenate-149be54c170da2cc4b7551d057b78f75', 71, 0), 'original-open_dataset-T-80927cfc0aecff74cd13dd3338f3a50a', 'original-open_dataset-T-74f497d7f399b5f9490248c75382f84d', ('concatenate-0bd0081b7c9c641a677ce766662a8f8c', 11, 0), ('concatenate-0bd0081b7c9c641a677ce766662a8f8c', 81, 0), 'original-open_dataset-T-39dfe94920ba5f56cf262bd59324def8', ('concatenate-149be54c170da2cc4b7551d057b78f75', 57, 0), ('concatenate-149be54c170da2cc4b7551d057b78f75', 48, 0), ('concatenate-149be54c170da2cc4b7551d057b78f75', 81, 0), ('concatenate-0bd0081b7c9c641a677ce766662a8f8c', 52, 0), ('concatenate-149be54c170da2cc4b7551d057b78f75', 13, 0), ('concatenate-149be54c170da2cc4b7551d057b78f75', 28, 0), ('concatenate-149be54c170da2cc4b7551d057b78f75', 61, 0)} (stimulus_id='handle-worker-cleanup-1718198353.1810443')\n",
      "2024-06-12 23:19:16,582 - distributed.nanny - WARNING - Restarting worker\n",
      "2024-06-12 23:19:55,418 - distributed.scheduler - WARNING - Removing worker 'tcp://127.0.0.1:45017' caused the cluster to lose already computed task(s), which will be recomputed elsewhere: {'open_dataset-f1a93a74-cd65-4777-bea4-275279029dc5', 'getattr-7a8aff3b-0060-4ca1-9743-703ab4d3426b', 'getattr-a3703d61-44ce-45e5-88ec-e5a05fa92ee3', 'getattr-6dbd3532-b420-4a02-8802-e22987c65a57', 'open_dataset-8ea10844-d79b-481a-9487-64eae0438368', 'open_dataset-8e28ab84-63e0-4f4c-9f45-1a90ecea9a05', 'getattr-9160e79b-ee0b-42c5-b785-623ac0a7df39', 'open_dataset-a2316664-c78b-4574-b04a-1b88aef476eb'} (stimulus_id='handle-worker-cleanup-1718198395.4182587')\n",
      "2024-06-12 23:25:19,679 - distributed.utils_perf - WARNING - full garbage collections took 11% CPU time recently (threshold: 10%)\n",
      "2024-06-12 23:26:13,124 - distributed.utils_perf - WARNING - full garbage collections took 11% CPU time recently (threshold: 10%)\n",
      "2024-06-12 23:28:36,885 - distributed.utils_perf - WARNING - full garbage collections took 10% CPU time recently (threshold: 10%)\n"
     ]
    }
   ],
   "source": [
    "client = Client()\n",
    "print(client)"
   ]
  },
  {
   "cell_type": "markdown",
   "metadata": {},
   "source": [
    "## Settings"
   ]
  },
  {
   "cell_type": "code",
   "execution_count": 4,
   "metadata": {
    "tags": []
   },
   "outputs": [],
   "source": [
    "dirs = {'1 km np': '1km_incorrect_wind_damping',\n",
    "        '1 km': '1km',\n",
    "        '4 km': '4km',\n",
    "        '100 m': 'LES_incorrect_wind_damping'}\n",
    "\n",
    "perts = {'res': list(dirs.keys()),   # Dataset names.\n",
    "         'dir': [dirs[x] for x in dirs.keys()],  # Dataset directories.\n",
    "         'levels': ['850', '730', '600', '500', '412'], # Perturbed levels in hPa.\n",
    "         'T': ['0.5', '-0.5'],                          # Temperature perturbations in K day-1.\n",
    "         'q': ['0.0002', '-0.0002']}                    # Specific humidity perturbations in kg kg-1 day-1.\n",
    "\n",
    "# Input directories with dataset names as keys.\n",
    "basedir = '/g/data/up6/tr2908/em_quarter_ss/v4.1.4/output/'\n",
    "inputs = wp.input_map(perts=perts, basedir=basedir)\n",
    "    \n",
    "# Figure settings.\n",
    "plt.rcParams['figure.figsize'] = wp.FIGURE_SIZE  # Figure size for non-facetted plots.\n",
    "plt.rcParams['font.size'] = 12                   # Font size for plots.\n",
    "plt.rcParams['axes.formatter.useoffset'] = False # Don't use offsets in plots.\n",
    "\n",
    "# The point at which the RCE run ends and control + perturbation runs begin.\n",
    "runs_start = {'4 km': '2000-03-01',\n",
    "              '1 km': '2000-03-01',\n",
    "              '1 km np': '2000-03-01',\n",
    "              '100 m':  '2000-04-26'} \n",
    "\n",
    "# Start and end times for designated RCE periods.\n",
    "start_time = {'4 km': '2000-04-01',\n",
    "              '1 km': '2000-04-01',\n",
    "              '1 km np': '2000-04-01',\n",
    "              '100 m':  '2000-05-05'}\n",
    "end_time =   {'4 km': '2000-06-01',\n",
    "              '1 km': '2000-06-01',\n",
    "              '1 km np': '2000-06-01',\n",
    "              '100 m':  '2000-05-10'}\n",
    "               \n",
    "plot_levels = [850, 500, 410, 100] # Pressure levels to plot individually [hPa]."
   ]
  },
  {
   "cell_type": "markdown",
   "metadata": {},
   "source": [
    "## Read data\n",
    "\n",
    "The script `~/code/sh/extract_WRF_variables_parallel.sh` runs, in parallel, a python script that extracts variables of interest from WRF `wrfout` files, optionally interpolates the 3D variables to vertical pressure levels, and takes spatial means across horizontal dimensions. These profiles of mean values per time are written to `wrfvar` files, which are then opened here. Note results are cached in `data/WRF`."
   ]
  },
  {
   "cell_type": "code",
   "execution_count": 9,
   "metadata": {},
   "outputs": [
    {
     "name": "stdout",
     "output_type": "stream",
     "text": [
      "Reading 1 km np dataset (/g/data/up6/tr2908/em_quarter_ss/v4.1.4/output/1km_incorrect_wind_damping/control/): Control...\n",
      "Reading 1 km np dataset (/g/data/up6/tr2908/em_quarter_ss/v4.1.4/output/1km_incorrect_wind_damping/pert_850hPa_T_0.5K/): T 0.5 @850...\n",
      "Reading 1 km np dataset (/g/data/up6/tr2908/em_quarter_ss/v4.1.4/output/1km_incorrect_wind_damping/pert_850hPa_T_-0.5K/): T -0.5 @850...\n",
      "Reading 1 km np dataset (/g/data/up6/tr2908/em_quarter_ss/v4.1.4/output/1km_incorrect_wind_damping/pert_850hPa_q_0.0002kgkg-1/): q 0.0002 @850...\n"
     ]
    },
    {
     "name": "stderr",
     "output_type": "stream",
     "text": [
      "Task exception was never retrieved\n",
      "future: <Task finished name='Task-1232436' coro=<Client._gather.<locals>.wait() done, defined at /g/data/hh5/public/apps/miniconda3/envs/analysis3-24.01/lib/python3.10/site-packages/distributed/client.py:2197> exception=AllExit()>\n",
      "Traceback (most recent call last):\n",
      "  File \"/g/data/hh5/public/apps/miniconda3/envs/analysis3-24.01/lib/python3.10/site-packages/distributed/client.py\", line 2206, in wait\n",
      "    raise AllExit()\n",
      "distributed.client.AllExit\n",
      "2024-06-12 23:22:33,911 - distributed.utils_perf - WARNING - full garbage collections took 11% CPU time recently (threshold: 10%)\n"
     ]
    },
    {
     "name": "stdout",
     "output_type": "stream",
     "text": [
      "Reading 1 km np dataset (/g/data/up6/tr2908/em_quarter_ss/v4.1.4/output/1km_incorrect_wind_damping/pert_850hPa_q_-0.0002kgkg-1/): q -0.0002 @850...\n",
      "Reading 1 km np dataset (/g/data/up6/tr2908/em_quarter_ss/v4.1.4/output/1km_incorrect_wind_damping/pert_730hPa_T_0.5K/): T 0.5 @730...\n"
     ]
    },
    {
     "name": "stderr",
     "output_type": "stream",
     "text": [
      "2024-06-12 23:22:47,042 - distributed.utils_perf - WARNING - full garbage collections took 11% CPU time recently (threshold: 10%)\n"
     ]
    },
    {
     "name": "stdout",
     "output_type": "stream",
     "text": [
      "Reading 1 km np dataset (/g/data/up6/tr2908/em_quarter_ss/v4.1.4/output/1km_incorrect_wind_damping/pert_730hPa_T_-0.5K/): T -0.5 @730...\n",
      "Reading 1 km np dataset (/g/data/up6/tr2908/em_quarter_ss/v4.1.4/output/1km_incorrect_wind_damping/pert_730hPa_q_0.0002kgkg-1/): q 0.0002 @730...\n",
      "Reading 1 km np dataset (/g/data/up6/tr2908/em_quarter_ss/v4.1.4/output/1km_incorrect_wind_damping/pert_730hPa_q_-0.0002kgkg-1/): q -0.0002 @730...\n"
     ]
    },
    {
     "name": "stderr",
     "output_type": "stream",
     "text": [
      "2024-06-12 23:23:06,512 - distributed.utils_perf - WARNING - full garbage collections took 11% CPU time recently (threshold: 10%)\n"
     ]
    },
    {
     "name": "stdout",
     "output_type": "stream",
     "text": [
      "Reading 1 km np dataset (/g/data/up6/tr2908/em_quarter_ss/v4.1.4/output/1km_incorrect_wind_damping/pert_600hPa_T_0.5K/): T 0.5 @600...\n",
      "Reading 1 km np dataset (/g/data/up6/tr2908/em_quarter_ss/v4.1.4/output/1km_incorrect_wind_damping/pert_600hPa_T_-0.5K/): T -0.5 @600...\n"
     ]
    },
    {
     "name": "stderr",
     "output_type": "stream",
     "text": [
      "2024-06-12 23:23:20,475 - distributed.utils_perf - WARNING - full garbage collections took 11% CPU time recently (threshold: 10%)\n"
     ]
    },
    {
     "name": "stdout",
     "output_type": "stream",
     "text": [
      "Reading 1 km np dataset (/g/data/up6/tr2908/em_quarter_ss/v4.1.4/output/1km_incorrect_wind_damping/pert_600hPa_q_0.0002kgkg-1/): q 0.0002 @600...\n",
      "Reading 1 km np dataset (/g/data/up6/tr2908/em_quarter_ss/v4.1.4/output/1km_incorrect_wind_damping/pert_600hPa_q_-0.0002kgkg-1/): q -0.0002 @600...\n",
      "Reading 1 km np dataset (/g/data/up6/tr2908/em_quarter_ss/v4.1.4/output/1km_incorrect_wind_damping/pert_500hPa_T_0.5K/): T 0.5 @500...\n"
     ]
    },
    {
     "name": "stderr",
     "output_type": "stream",
     "text": [
      "2024-06-12 23:23:40,128 - distributed.utils_perf - WARNING - full garbage collections took 12% CPU time recently (threshold: 10%)\n"
     ]
    },
    {
     "name": "stdout",
     "output_type": "stream",
     "text": [
      "Reading 1 km np dataset (/g/data/up6/tr2908/em_quarter_ss/v4.1.4/output/1km_incorrect_wind_damping/pert_500hPa_T_-0.5K/): T -0.5 @500...\n",
      "Reading 1 km np dataset (/g/data/up6/tr2908/em_quarter_ss/v4.1.4/output/1km_incorrect_wind_damping/pert_500hPa_q_0.0002kgkg-1/): q 0.0002 @500...\n",
      "Reading 1 km np dataset (/g/data/up6/tr2908/em_quarter_ss/v4.1.4/output/1km_incorrect_wind_damping/pert_500hPa_q_-0.0002kgkg-1/): q -0.0002 @500...\n"
     ]
    },
    {
     "name": "stderr",
     "output_type": "stream",
     "text": [
      "2024-06-12 23:24:00,138 - distributed.utils_perf - WARNING - full garbage collections took 12% CPU time recently (threshold: 10%)\n"
     ]
    },
    {
     "name": "stdout",
     "output_type": "stream",
     "text": [
      "Reading 1 km np dataset (/g/data/up6/tr2908/em_quarter_ss/v4.1.4/output/1km_incorrect_wind_damping/pert_412hPa_T_0.5K/): T 0.5 @412...\n",
      "Reading 1 km np dataset (/g/data/up6/tr2908/em_quarter_ss/v4.1.4/output/1km_incorrect_wind_damping/pert_412hPa_T_-0.5K/): T -0.5 @412...\n",
      "Reading 1 km np dataset (/g/data/up6/tr2908/em_quarter_ss/v4.1.4/output/1km_incorrect_wind_damping/pert_412hPa_q_0.0002kgkg-1/): q 0.0002 @412...\n",
      "Reading 1 km np dataset (/g/data/up6/tr2908/em_quarter_ss/v4.1.4/output/1km_incorrect_wind_damping/pert_412hPa_q_-0.0002kgkg-1/): q -0.0002 @412...\n"
     ]
    },
    {
     "name": "stderr",
     "output_type": "stream",
     "text": [
      "2024-06-12 23:24:25,863 - distributed.utils_perf - WARNING - full garbage collections took 11% CPU time recently (threshold: 10%)\n"
     ]
    },
    {
     "name": "stdout",
     "output_type": "stream",
     "text": [
      "Reading 1 km dataset (/g/data/up6/tr2908/em_quarter_ss/v4.1.4/output/1km/control/): Control...\n",
      "Reading 1 km dataset (/g/data/up6/tr2908/em_quarter_ss/v4.1.4/output/1km/pert_850hPa_T_0.5K/): T 0.5 @850...\n"
     ]
    },
    {
     "name": "stderr",
     "output_type": "stream",
     "text": [
      "2024-06-12 23:28:09,081 - distributed.utils_perf - WARNING - full garbage collections took 10% CPU time recently (threshold: 10%)\n"
     ]
    },
    {
     "name": "stdout",
     "output_type": "stream",
     "text": [
      "Reading 1 km dataset (/g/data/up6/tr2908/em_quarter_ss/v4.1.4/output/1km/pert_850hPa_T_-0.5K/): T -0.5 @850...\n",
      "Reading 1 km dataset (/g/data/up6/tr2908/em_quarter_ss/v4.1.4/output/1km/pert_850hPa_q_0.0002kgkg-1/): q 0.0002 @850...\n",
      "Reading 1 km dataset (/g/data/up6/tr2908/em_quarter_ss/v4.1.4/output/1km/pert_850hPa_q_-0.0002kgkg-1/): q -0.0002 @850...\n",
      "Reading 1 km dataset (/g/data/up6/tr2908/em_quarter_ss/v4.1.4/output/1km/pert_730hPa_T_0.5K/): T 0.5 @730...\n",
      "Reading 1 km dataset (/g/data/up6/tr2908/em_quarter_ss/v4.1.4/output/1km/pert_730hPa_T_-0.5K/): T -0.5 @730...\n",
      "Reading 1 km dataset (/g/data/up6/tr2908/em_quarter_ss/v4.1.4/output/1km/pert_730hPa_q_0.0002kgkg-1/): q 0.0002 @730...\n",
      "Reading 1 km dataset (/g/data/up6/tr2908/em_quarter_ss/v4.1.4/output/1km/pert_730hPa_q_-0.0002kgkg-1/): q -0.0002 @730...\n",
      "Reading 1 km dataset (/g/data/up6/tr2908/em_quarter_ss/v4.1.4/output/1km/pert_600hPa_T_0.5K/): T 0.5 @600...\n",
      "Reading 1 km dataset (/g/data/up6/tr2908/em_quarter_ss/v4.1.4/output/1km/pert_600hPa_T_-0.5K/): T -0.5 @600...\n"
     ]
    },
    {
     "name": "stderr",
     "output_type": "stream",
     "text": [
      "2024-06-12 23:29:09,480 - distributed.utils_perf - WARNING - full garbage collections took 10% CPU time recently (threshold: 10%)\n"
     ]
    },
    {
     "name": "stdout",
     "output_type": "stream",
     "text": [
      "Reading 1 km dataset (/g/data/up6/tr2908/em_quarter_ss/v4.1.4/output/1km/pert_600hPa_q_0.0002kgkg-1/): q 0.0002 @600...\n",
      "Reading 1 km dataset (/g/data/up6/tr2908/em_quarter_ss/v4.1.4/output/1km/pert_600hPa_q_-0.0002kgkg-1/): q -0.0002 @600...\n",
      "Reading 1 km dataset (/g/data/up6/tr2908/em_quarter_ss/v4.1.4/output/1km/pert_500hPa_T_0.5K/): T 0.5 @500...\n",
      "Reading 1 km dataset (/g/data/up6/tr2908/em_quarter_ss/v4.1.4/output/1km/pert_500hPa_T_-0.5K/): T -0.5 @500...\n",
      "Reading 1 km dataset (/g/data/up6/tr2908/em_quarter_ss/v4.1.4/output/1km/pert_500hPa_q_0.0002kgkg-1/): q 0.0002 @500...\n"
     ]
    },
    {
     "name": "stderr",
     "output_type": "stream",
     "text": [
      "2024-06-12 23:29:43,387 - distributed.utils_perf - WARNING - full garbage collections took 10% CPU time recently (threshold: 10%)\n"
     ]
    },
    {
     "name": "stdout",
     "output_type": "stream",
     "text": [
      "Reading 1 km dataset (/g/data/up6/tr2908/em_quarter_ss/v4.1.4/output/1km/pert_500hPa_q_-0.0002kgkg-1/): q -0.0002 @500...\n",
      "Reading 1 km dataset (/g/data/up6/tr2908/em_quarter_ss/v4.1.4/output/1km/pert_412hPa_T_0.5K/): T 0.5 @412...\n",
      "Reading 1 km dataset (/g/data/up6/tr2908/em_quarter_ss/v4.1.4/output/1km/pert_412hPa_T_-0.5K/): T -0.5 @412...\n",
      "Reading 1 km dataset (/g/data/up6/tr2908/em_quarter_ss/v4.1.4/output/1km/pert_412hPa_q_0.0002kgkg-1/): q 0.0002 @412...\n",
      "Reading 1 km dataset (/g/data/up6/tr2908/em_quarter_ss/v4.1.4/output/1km/pert_412hPa_q_-0.0002kgkg-1/): q -0.0002 @412...\n"
     ]
    },
    {
     "name": "stderr",
     "output_type": "stream",
     "text": [
      "2024-06-12 23:30:18,359 - distributed.utils_perf - WARNING - full garbage collections took 10% CPU time recently (threshold: 10%)\n",
      "2024-06-12 23:32:01,600 - distributed.utils_perf - WARNING - full garbage collections took 10% CPU time recently (threshold: 10%)\n"
     ]
    },
    {
     "name": "stdout",
     "output_type": "stream",
     "text": [
      "Reading 4 km dataset (/g/data/up6/tr2908/em_quarter_ss/v4.1.4/output/4km/control/): Control...\n",
      "Reading 4 km dataset (/g/data/up6/tr2908/em_quarter_ss/v4.1.4/output/4km/pert_850hPa_T_0.5K/): T 0.5 @850...\n",
      "Reading 4 km dataset (/g/data/up6/tr2908/em_quarter_ss/v4.1.4/output/4km/pert_850hPa_T_-0.5K/): T -0.5 @850...\n",
      "Reading 4 km dataset (/g/data/up6/tr2908/em_quarter_ss/v4.1.4/output/4km/pert_850hPa_q_0.0002kgkg-1/): q 0.0002 @850...\n",
      "Reading 4 km dataset (/g/data/up6/tr2908/em_quarter_ss/v4.1.4/output/4km/pert_850hPa_q_-0.0002kgkg-1/): q -0.0002 @850...\n",
      "Reading 4 km dataset (/g/data/up6/tr2908/em_quarter_ss/v4.1.4/output/4km/pert_730hPa_T_0.5K/): T 0.5 @730...\n",
      "Reading 4 km dataset (/g/data/up6/tr2908/em_quarter_ss/v4.1.4/output/4km/pert_730hPa_T_-0.5K/): T -0.5 @730...\n",
      "Reading 4 km dataset (/g/data/up6/tr2908/em_quarter_ss/v4.1.4/output/4km/pert_730hPa_q_0.0002kgkg-1/): q 0.0002 @730...\n",
      "Reading 4 km dataset (/g/data/up6/tr2908/em_quarter_ss/v4.1.4/output/4km/pert_730hPa_q_-0.0002kgkg-1/): q -0.0002 @730...\n",
      "Reading 4 km dataset (/g/data/up6/tr2908/em_quarter_ss/v4.1.4/output/4km/pert_600hPa_T_0.5K/): T 0.5 @600...\n",
      "Reading 4 km dataset (/g/data/up6/tr2908/em_quarter_ss/v4.1.4/output/4km/pert_600hPa_T_-0.5K/): T -0.5 @600...\n",
      "Reading 4 km dataset (/g/data/up6/tr2908/em_quarter_ss/v4.1.4/output/4km/pert_600hPa_q_0.0002kgkg-1/): q 0.0002 @600...\n",
      "Reading 4 km dataset (/g/data/up6/tr2908/em_quarter_ss/v4.1.4/output/4km/pert_600hPa_q_-0.0002kgkg-1/): q -0.0002 @600...\n",
      "Reading 4 km dataset (/g/data/up6/tr2908/em_quarter_ss/v4.1.4/output/4km/pert_500hPa_T_0.5K/): T 0.5 @500...\n",
      "Reading 4 km dataset (/g/data/up6/tr2908/em_quarter_ss/v4.1.4/output/4km/pert_500hPa_T_-0.5K/): T -0.5 @500...\n",
      "Reading 4 km dataset (/g/data/up6/tr2908/em_quarter_ss/v4.1.4/output/4km/pert_500hPa_q_0.0002kgkg-1/): q 0.0002 @500...\n",
      "Reading 4 km dataset (/g/data/up6/tr2908/em_quarter_ss/v4.1.4/output/4km/pert_500hPa_q_-0.0002kgkg-1/): q -0.0002 @500...\n",
      "Reading 4 km dataset (/g/data/up6/tr2908/em_quarter_ss/v4.1.4/output/4km/pert_412hPa_T_0.5K/): T 0.5 @412...\n",
      "Reading 4 km dataset (/g/data/up6/tr2908/em_quarter_ss/v4.1.4/output/4km/pert_412hPa_T_-0.5K/): T -0.5 @412...\n",
      "Reading 4 km dataset (/g/data/up6/tr2908/em_quarter_ss/v4.1.4/output/4km/pert_412hPa_q_0.0002kgkg-1/): q 0.0002 @412...\n",
      "Reading 4 km dataset (/g/data/up6/tr2908/em_quarter_ss/v4.1.4/output/4km/pert_412hPa_q_-0.0002kgkg-1/): q -0.0002 @412...\n",
      "Reading 100 m dataset (/g/data/up6/tr2908/em_quarter_ss/v4.1.4/output/LES_incorrect_wind_damping/control/): Control...\n",
      "Reading 100 m dataset (/g/data/up6/tr2908/em_quarter_ss/v4.1.4/output/LES_incorrect_wind_damping/pert_850hPa_T_0.5K/): T 0.5 @850...\n",
      "Reading 100 m dataset (/g/data/up6/tr2908/em_quarter_ss/v4.1.4/output/LES_incorrect_wind_damping/pert_850hPa_T_-0.5K/): T -0.5 @850...\n",
      "Reading 100 m dataset (/g/data/up6/tr2908/em_quarter_ss/v4.1.4/output/LES_incorrect_wind_damping/pert_850hPa_q_0.0002kgkg-1/): q 0.0002 @850...\n",
      "Reading 100 m dataset (/g/data/up6/tr2908/em_quarter_ss/v4.1.4/output/LES_incorrect_wind_damping/pert_850hPa_q_-0.0002kgkg-1/): q -0.0002 @850...\n",
      "Reading 100 m dataset (/g/data/up6/tr2908/em_quarter_ss/v4.1.4/output/LES_incorrect_wind_damping/pert_412hPa_T_0.5K/): T 0.5 @412...\n",
      "Reading 100 m dataset (/g/data/up6/tr2908/em_quarter_ss/v4.1.4/output/LES_incorrect_wind_damping/pert_412hPa_T_-0.5K/): T -0.5 @412...\n",
      "Reading 100 m dataset (/g/data/up6/tr2908/em_quarter_ss/v4.1.4/output/LES_incorrect_wind_damping/pert_412hPa_q_0.0002kgkg-1/): q 0.0002 @412...\n",
      "Reading 100 m dataset (/g/data/up6/tr2908/em_quarter_ss/v4.1.4/output/LES_incorrect_wind_damping/pert_412hPa_q_-0.0002kgkg-1/): q -0.0002 @412...\n"
     ]
    },
    {
     "ename": "KeyError",
     "evalue": "\"['RCE'] not found in axis\"",
     "output_type": "error",
     "traceback": [
      "\u001b[0;31m---------------------------------------------------------------------------\u001b[0m",
      "\u001b[0;31mKeyError\u001b[0m                                  Traceback (most recent call last)",
      "Cell \u001b[0;32mIn[9], line 2\u001b[0m\n\u001b[1;32m      1\u001b[0m reload(wp)\n\u001b[0;32m----> 2\u001b[0m pw_ts, profs \u001b[38;5;241m=\u001b[39m \u001b[43mwp\u001b[49m\u001b[38;5;241;43m.\u001b[39;49m\u001b[43mload_cache_data\u001b[49m\u001b[43m(\u001b[49m\u001b[43minputs\u001b[49m\u001b[38;5;241;43m=\u001b[39;49m\u001b[43minputs\u001b[49m\u001b[43m,\u001b[49m\u001b[43m \u001b[49m\u001b[43mdirs\u001b[49m\u001b[38;5;241;43m=\u001b[39;49m\u001b[43mdirs\u001b[49m\u001b[43m,\u001b[49m\u001b[43m \u001b[49m\u001b[43mruns_start\u001b[49m\u001b[38;5;241;43m=\u001b[39;49m\u001b[43mruns_start\u001b[49m\u001b[43m,\u001b[49m\u001b[43m \u001b[49m\u001b[43mstart_time\u001b[49m\u001b[38;5;241;43m=\u001b[39;49m\u001b[43mstart_time\u001b[49m\u001b[43m,\u001b[49m\u001b[43m \u001b[49m\u001b[43mend_time\u001b[49m\u001b[38;5;241;43m=\u001b[39;49m\u001b[43mend_time\u001b[49m\u001b[43m)\u001b[49m\n",
      "File \u001b[0;32m~/git/wrf_lrf_les/analysis/modules/wrf_perturbation.py:1715\u001b[0m, in \u001b[0;36mload_cache_data\u001b[0;34m(inputs, dirs, runs_start, start_time, end_time, data_dir, prof_vars)\u001b[0m\n\u001b[1;32m   1713\u001b[0m \u001b[38;5;66;03m# Remove RCE runs because we are only interested in perturbed runs.\u001b[39;00m\n\u001b[1;32m   1714\u001b[0m \u001b[38;5;28;01mfor\u001b[39;00m res \u001b[38;5;129;01min\u001b[39;00m wrfvars\u001b[38;5;241m.\u001b[39mkeys():\n\u001b[0;32m-> 1715\u001b[0m     wrfvars[res] \u001b[38;5;241m=\u001b[39m \u001b[43mwrfvars\u001b[49m\u001b[43m[\u001b[49m\u001b[43mres\u001b[49m\u001b[43m]\u001b[49m\u001b[38;5;241;43m.\u001b[39;49m\u001b[43mdrop_sel\u001b[49m\u001b[43m(\u001b[49m\u001b[43mDataset\u001b[49m\u001b[38;5;241;43m=\u001b[39;49m\u001b[38;5;124;43m'\u001b[39;49m\u001b[38;5;124;43mRCE\u001b[39;49m\u001b[38;5;124;43m'\u001b[39;49m\u001b[43m)\u001b[49m\u001b[38;5;241m.\u001b[39msel(time\u001b[38;5;241m=\u001b[39m\u001b[38;5;28mslice\u001b[39m(runs_start[res], \u001b[38;5;28;01mNone\u001b[39;00m))\u001b[38;5;241m.\u001b[39mchunk(\u001b[38;5;241m-\u001b[39m\u001b[38;5;241m1\u001b[39m)\n\u001b[1;32m   1716\u001b[0m     \u001b[38;5;28;01mdel\u001b[39;00m(inputs[res][\u001b[38;5;124m'\u001b[39m\u001b[38;5;124mRCE\u001b[39m\u001b[38;5;124m'\u001b[39m])\n\u001b[1;32m   1718\u001b[0m \u001b[38;5;66;03m# Calculate mean profiles and cache them.\u001b[39;00m\n",
      "File \u001b[0;32m/g/data/hh5/public/apps/miniconda3/envs/analysis3-24.01/lib/python3.10/site-packages/xarray/core/dataset.py:6076\u001b[0m, in \u001b[0;36mDataset.drop_sel\u001b[0;34m(self, labels, errors, **labels_kwargs)\u001b[0m\n\u001b[1;32m   6074\u001b[0m     \u001b[38;5;28;01mexcept\u001b[39;00m \u001b[38;5;167;01mKeyError\u001b[39;00m:\n\u001b[1;32m   6075\u001b[0m         \u001b[38;5;28;01mraise\u001b[39;00m \u001b[38;5;167;01mValueError\u001b[39;00m(\u001b[38;5;124mf\u001b[39m\u001b[38;5;124m\"\u001b[39m\u001b[38;5;124mdimension \u001b[39m\u001b[38;5;132;01m{\u001b[39;00mdim\u001b[38;5;132;01m!r}\u001b[39;00m\u001b[38;5;124m does not have coordinate labels\u001b[39m\u001b[38;5;124m\"\u001b[39m)\n\u001b[0;32m-> 6076\u001b[0m     new_index \u001b[38;5;241m=\u001b[39m \u001b[43mindex\u001b[49m\u001b[38;5;241;43m.\u001b[39;49m\u001b[43mdrop\u001b[49m\u001b[43m(\u001b[49m\u001b[43mlabels_for_dim\u001b[49m\u001b[43m,\u001b[49m\u001b[43m \u001b[49m\u001b[43merrors\u001b[49m\u001b[38;5;241;43m=\u001b[39;49m\u001b[43merrors\u001b[49m\u001b[43m)\u001b[49m\n\u001b[1;32m   6077\u001b[0m     ds \u001b[38;5;241m=\u001b[39m ds\u001b[38;5;241m.\u001b[39mloc[{dim: new_index}]\n\u001b[1;32m   6078\u001b[0m \u001b[38;5;28;01mreturn\u001b[39;00m ds\n",
      "File \u001b[0;32m/g/data/hh5/public/apps/miniconda3/envs/analysis3-24.01/lib/python3.10/site-packages/pandas/core/indexes/base.py:7070\u001b[0m, in \u001b[0;36mIndex.drop\u001b[0;34m(self, labels, errors)\u001b[0m\n\u001b[1;32m   7068\u001b[0m \u001b[38;5;28;01mif\u001b[39;00m mask\u001b[38;5;241m.\u001b[39many():\n\u001b[1;32m   7069\u001b[0m     \u001b[38;5;28;01mif\u001b[39;00m errors \u001b[38;5;241m!=\u001b[39m \u001b[38;5;124m\"\u001b[39m\u001b[38;5;124mignore\u001b[39m\u001b[38;5;124m\"\u001b[39m:\n\u001b[0;32m-> 7070\u001b[0m         \u001b[38;5;28;01mraise\u001b[39;00m \u001b[38;5;167;01mKeyError\u001b[39;00m(\u001b[38;5;124mf\u001b[39m\u001b[38;5;124m\"\u001b[39m\u001b[38;5;132;01m{\u001b[39;00mlabels[mask]\u001b[38;5;241m.\u001b[39mtolist()\u001b[38;5;132;01m}\u001b[39;00m\u001b[38;5;124m not found in axis\u001b[39m\u001b[38;5;124m\"\u001b[39m)\n\u001b[1;32m   7071\u001b[0m     indexer \u001b[38;5;241m=\u001b[39m indexer[\u001b[38;5;241m~\u001b[39mmask]\n\u001b[1;32m   7072\u001b[0m \u001b[38;5;28;01mreturn\u001b[39;00m \u001b[38;5;28mself\u001b[39m\u001b[38;5;241m.\u001b[39mdelete(indexer)\n",
      "\u001b[0;31mKeyError\u001b[0m: \"['RCE'] not found in axis\""
     ]
    }
   ],
   "source": [
    "reload(wp)\n",
    "pw_ts, profs = wp.load_cache_data(inputs=inputs, dirs=dirs, runs_start=runs_start, start_time=start_time, end_time=end_time)"
   ]
  },
  {
   "cell_type": "markdown",
   "metadata": {},
   "source": [
    "Read MONC data:"
   ]
  },
  {
   "cell_type": "code",
   "execution_count": 6,
   "metadata": {},
   "outputs": [],
   "source": [
    "monc_cwv = wp.MONC_CWV_data()"
   ]
  },
  {
   "cell_type": "markdown",
   "metadata": {},
   "source": [
    "## Radiative-convective equilibrium (RCE)\n",
    "\n",
    "To determine when the simulations have reached RCE, we look for stabilisation of the precipitable water (PW) field. Here is spatially-averaged PW by time for each simulation in WRF. The green highlighted region is the time span over which average profiles are calculated for all runs."
   ]
  },
  {
   "cell_type": "code",
   "execution_count": null,
   "metadata": {},
   "outputs": [],
   "source": [
    "wp.plot_pw_ts(pw_ts=pw_ts, start_time=start_time, end_time=end_time)"
   ]
  },
  {
   "cell_type": "markdown",
   "metadata": {},
   "source": [
    "Make a similar plot for the MONC results:"
   ]
  },
  {
   "cell_type": "code",
   "execution_count": null,
   "metadata": {},
   "outputs": [],
   "source": [
    "wp.plot_monc_cwv(monc=monc_cwv)"
   ]
  },
  {
   "cell_type": "markdown",
   "metadata": {},
   "source": [
    "# Mean profiles over RCE period"
   ]
  },
  {
   "cell_type": "code",
   "execution_count": null,
   "metadata": {},
   "outputs": [],
   "source": [
    "wp.plot_mean_profiles(profs, variables=['tk', 'q', 'ua', 'va', 'rh'], \n",
    "                      relabel={'q': 'Water vapor\\nmixing ratio\\n[kg kg$^{-1}$]', 'ua': 'U wind\\n[m s$^{-1}$]',\n",
    "                               'va': 'V wind\\n[m s$^{-1}$]', 'rh': 'Relative\\nhumidity [%]'},\n",
    "                      retick={'tk': [200, 280]})"
   ]
  },
  {
   "cell_type": "code",
   "execution_count": null,
   "metadata": {},
   "outputs": [],
   "source": [
    "wp.plot_mean_profiles(profs, variables=['qcloud', 'qice', 'qsnow', 'qrain', 'qgraup'])"
   ]
  },
  {
   "cell_type": "markdown",
   "metadata": {},
   "source": [
    "## Perturbation differences in averaged RCE profiles\n",
    "\n",
    "Differences here are defined as `perturbed - control`. The red vertical line shows zero difference."
   ]
  },
  {
   "cell_type": "code",
   "execution_count": null,
   "metadata": {
    "tags": []
   },
   "outputs": [],
   "source": [
    "refs = wp.kuang_data(ref_dir='/g/data/up6/tr2908/LRF_SCM_results/')"
   ]
  },
  {
   "cell_type": "code",
   "execution_count": null,
   "metadata": {
    "tags": []
   },
   "outputs": [],
   "source": [
    "monc = wp.MONC_response_data()\n",
    "monc['model'] = 'MONC'"
   ]
  },
  {
   "cell_type": "code",
   "execution_count": null,
   "metadata": {
    "tags": []
   },
   "outputs": [],
   "source": [
    "# Collect WRF differences together in the same form as the MONC differences.\n",
    "wrf_profs = xarray.merge([profs[x][['T', 'tk', 'q', 'qcloud', 'qice', 'qsnow', 'qrain', 'qgraup', 'rh']].load().expand_dims({'res': [x]}) for x in profs])\n",
    "\n",
    "# Convert quantities in kg kg-1 to g kg-1.\n",
    "for v in ['q', 'qcloud', 'qice', 'qsnow', 'qrain', 'qgraup']:\n",
    "    wrf_profs[v] = wrf_profs[v]*1000\n",
    "    \n",
    "wrf_diffs = wrf_profs.drop_sel(Dataset='Control') - wrf_profs.sel(Dataset='Control')\n",
    "\n",
    "wrf = wrf_diffs.to_dataframe().reset_index()\n",
    "wrf['model'] = 'WRF'\n",
    "wrf = wrf.rename(columns={'Dataset': 'pert', 'level': 'pressure'})\n",
    "\n",
    "## Collect WRF and MONC differences together.\n",
    "diffs = pd.concat([wrf, monc]).reset_index(drop=True)\n",
    "diffs = diffs.sort_values(['pressure', 'model', 'res'], ascending=False)\n",
    "diffs = diffs.rename(columns={'model': 'Model', 'res': 'Resolution'})\n",
    "\n",
    "# Give hydrometeors a factor of 1e3\n",
    "for v in ['q', 'qcloud', 'qice', 'qsnow', 'qrain', 'qgraup']:\n",
    "    diffs[v] = diffs[v]*1000\n",
    "    \n",
    "diffs['pert_group'] = [x.replace('-', '') for x in diffs.pert]\n",
    "diffs['neg'] = ['-' in x for x in diffs.pert]\n",
    "\n",
    "pos = diffs[~diffs.neg].copy()\n",
    "neg = diffs[diffs.neg].copy()\n",
    "\n",
    "for v in ['T', 'tk', 'q', 'qcloud', 'qice', 'qsnow', 'qrain', 'qgraup', 'rh']:\n",
    "    neg[v] = -1 * neg[v]\n",
    "    \n",
    "diffs = pd.concat([neg, pos])"
   ]
  },
  {
   "cell_type": "code",
   "execution_count": null,
   "metadata": {
    "tags": []
   },
   "outputs": [],
   "source": [
    "# hue_order = ['4 km', '1 km', '500 m', '250 m', '100 m']\n",
    "hue_order = ['1 km', '1 km np']\n",
    "\n",
    "perts = [x for x in np.unique(diffs.pert_group) if x[0] == 'T' or x[0] == 'q']\n",
    "for p in perts:\n",
    "    p_level = float(p[-3:])\n",
    "    variables = ['tk', 'rh', 'q', 'qcloud', 'qice', 'qsnow', 'qrain', 'qgraup']\n",
    "    var_labels = {'tk': 'Temperature\\n[K]',\n",
    "                  'rh': 'RH\\n[%]',\n",
    "                  'q': 'MR Vapour\\n[10$^{-3}$ g kg$^{-1}$]',\n",
    "                  'qcloud': 'MR Cloud\\n[10$^{-3}$ g kg$^{-1}$]',\n",
    "                  'qice': 'MR Ice\\n[10$^{-3}$ g kg$^{-1}$]',\n",
    "                  'qsnow': 'MR Snow\\n[10$^{-3}$ g kg$^{-1}$]',\n",
    "                  'qrain': 'MR Rain\\n[10$^{-3}$ g kg$^{-1}$]',\n",
    "                  'qgraup': 'MR Graupel\\n[10$^{-3}$ g kg$^{-1}$]'}\n",
    "    figsize = (12,8)\n",
    "    ncols = 4\n",
    "    nrows = 2\n",
    "    fig, axs = plt.subplots(ncols=ncols, nrows=nrows, figsize=figsize, gridspec_kw={'hspace': 0.5})\n",
    "\n",
    "    assert len(variables) <= ncols * nrows, 'Not enough col/rows.'\n",
    "\n",
    "    d = diffs[diffs.pert_group == p]\n",
    "    d = d[d.pressure >= 100]\n",
    "\n",
    "    for i, variable in enumerate(variables):\n",
    "        axs.flat[i].axvline(0, color='black')\n",
    "        axs.flat[i].axhline(p_level, color='black', linestyle='--')\n",
    "\n",
    "        sns.lineplot(data=d[~d.neg], x=variable, y='pressure', ax=axs.flat[i], style='Model', hue='Resolution', sort=False, estimator=None, legend=(i == ncols-1),\n",
    "                     hue_order=hue_order[::-1], palette=sns.color_palette(\"turbo\", len(hue_order)), zorder=5)\n",
    "        \n",
    "        if len(d[d.neg]) > 0:\n",
    "            sns.lineplot(data=d[d.neg], x=variable, y='pressure', ax=axs.flat[i], style='Model', hue='Resolution', sort=False, estimator=None,\n",
    "                         hue_order=hue_order[::-1], palette=sns.color_palette(\"turbo\", len(hue_order)), alpha=0.5, legend=False, zorder=5)\n",
    "        axs.flat[i].invert_yaxis()\n",
    "\n",
    "        axs.flat[i].set_ylim(1000, 100)\n",
    "\n",
    "        # Add Kuang 2010 reference values.\n",
    "        if variable == 'q':\n",
    "            r = refs[refs.Dataset == p]\n",
    "            axs.flat[i].scatter(r.q * 1000, r.level, facecolors='none', edgecolors='black', zorder=10, s=30)\n",
    "        if variable == 'tk':\n",
    "            r = refs[refs.Dataset == p]\n",
    "            axs.flat[i].scatter(r.tk, r.level, facecolors='none', edgecolors='black', zorder=10, s=30)\n",
    "        \n",
    "        if variable in var_labels:\n",
    "            axs.flat[i].set_xlabel(var_labels[variable])\n",
    "\n",
    "        if i % ncols == 0:\n",
    "            axs.flat[i].set_ylabel('Pressure [hPa]')\n",
    "        else: \n",
    "            axs.flat[i].set_ylabel('')\n",
    "            axs.flat[i].set_yticks([])\n",
    "\n",
    "    sns.move_legend(axs.flat[ncols-1], 'upper left', bbox_to_anchor=(1, 1))\n",
    "    _ = plt.suptitle(p, y=0.93)\n",
    "    plt.savefig(f'paper/figures/pert_diffs_{p.replace(\" \", \"_\")}.pdf', bbox_inches='tight')\n",
    "    plt.show()\n",
    "    plt.close()"
   ]
  },
  {
   "cell_type": "code",
   "execution_count": null,
   "metadata": {},
   "outputs": [],
   "source": []
  }
 ],
 "metadata": {
  "kernelspec": {
   "display_name": "Python [conda env:analysis3-24.01] *",
   "language": "python",
   "name": "conda-env-analysis3-24.01-py"
  },
  "language_info": {
   "codemirror_mode": {
    "name": "ipython",
    "version": 3
   },
   "file_extension": ".py",
   "mimetype": "text/x-python",
   "name": "python",
   "nbconvert_exporter": "python",
   "pygments_lexer": "ipython3",
   "version": "3.10.13"
  },
  "toc": {
   "base_numbering": 1,
   "nav_menu": {},
   "number_sections": true,
   "sideBar": true,
   "skip_h1_title": true,
   "title_cell": "Table of Contents",
   "title_sidebar": "Contents",
   "toc_cell": true,
   "toc_position": {
    "height": "calc(100% - 180px)",
    "left": "10px",
    "top": "150px",
    "width": "165px"
   },
   "toc_section_display": true,
   "toc_window_display": false
  }
 },
 "nbformat": 4,
 "nbformat_minor": 4
}
